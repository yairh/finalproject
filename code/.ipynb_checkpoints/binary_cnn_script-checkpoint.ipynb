{
 "cells": [
  {
   "cell_type": "code",
   "execution_count": 110,
   "metadata": {},
   "outputs": [],
   "source": [
    "from sklearn.datasets import load_files\n",
    "from keras.utils import np_utils\n",
    "import numpy as np\n",
    "import pandas as pd\n",
    "from glob import glob\n",
    "from IPython.core.display import Image, display\n",
    "import cv2                \n",
    "import matplotlib.pyplot as plt                        \n",
    "%matplotlib inline\n",
    "\n",
    "from keras import models, layers, optimizers\n",
    "from keras.preprocessing import image\n",
    "from keras.applications.vgg19 import VGG19\n",
    "from keras.applications.resnet50 import ResNet50\n",
    "from keras.applications.resnet50 import preprocess_input, decode_predictions\n",
    "from keras.preprocessing.image import ImageDataGenerator\n",
    "from keras.applications import VGG16\n",
    "from keras.applications.vgg16 import VGG16, preprocess_input\n",
    "from keras.callbacks import ModelCheckpoint\n",
    "from tqdm import tqdm\n",
    "import math\n",
    "import pickle\n",
    "import os\n",
    "from PIL import ImageFile\n",
    "import time\n",
    "\n",
    "from keras.layers import Conv2D, MaxPooling2D, GlobalAveragePooling2D\n",
    "from keras.layers import Dropout, Flatten, Dense, Activation\n",
    "from keras.models import Sequential\n",
    "import tensorflow as tf\n",
    "from tensorflow.keras.callbacks import TensorBoard\n",
    "# from keras.callbacks import TensorBoard"
   ]
  },
  {
   "cell_type": "code",
   "execution_count": 112,
   "metadata": {},
   "outputs": [],
   "source": [
    "# Add GPU options\n",
    "gpu_options = tf.GPUOptions(per_process_gpu_memory_fraction = 0.333)\n",
    "sess = tf.Session(config = tf.ConfigProto(gpu_options = gpu_options))\n",
    "NAME = 'Binary_chest_cnn_64x3_{}'.format(int(time.time()))\n",
    "tensorboard = TensorBoard(log_dir='logs/{}'.format(NAME))\n",
    "#tensorboard --logdir=logs/ --host localhost --port 8088"
   ]
  },
  {
   "cell_type": "markdown",
   "metadata": {},
   "source": [
    "# Information"
   ]
  },
  {
   "cell_type": "code",
   "execution_count": 43,
   "metadata": {},
   "outputs": [
    {
     "name": "stdout",
     "output_type": "stream",
     "text": [
      "Statistics about the Dataset:\n",
      "\n",
      "There are 2 total chest deseases.\n",
      "There are 4999 total chest images.\n",
      "\n",
      "There are 4032 training chest images.\n",
      "There are 967 test chest images.\n"
     ]
    }
   ],
   "source": [
    "# define function to load train, test, and validation datasets\n",
    "def load_dataset(path):\n",
    "    \"\"\"Returns the path and the Label from the folder\"\"\"\n",
    "    data = load_files(path)\n",
    "    chest_files = np.array(data['filenames'])\n",
    "    chest_targets = np_utils.to_categorical(np.array(data['target']), 2)\n",
    "    return chest_files, chest_targets\n",
    "\n",
    "# load train, test, and validation datasets\n",
    "train_files, train_targets = load_dataset('../imgs/images/train')\n",
    "test_files, test_targets = load_dataset('../imgs/images/test')\n",
    "\n",
    "# load list of dog names\n",
    "labels = [item[21:-1] for item in sorted(glob(\"../imgs/images/train/*/\"))]\n",
    "\n",
    "print('Statistics about the Dataset:\\n')\n",
    "print('There are %d total chest deseases.' % len(labels))\n",
    "print('There are %s total chest images.\\n' % len(np.hstack([train_files, test_files])))\n",
    "print('There are %d training chest images.' % len(train_files))\n",
    "# print('There are %d validation dog images.' % len(valid_files))\n",
    "print('There are %d test chest images.'% len(test_files))"
   ]
  },
  {
   "cell_type": "code",
   "execution_count": 47,
   "metadata": {},
   "outputs": [],
   "source": [
    "def path_to_tensor(img_path):\n",
    "    # loads RGB image as PIL.Image.Image type\n",
    "    img = image.load_img(img_path, target_size=(224, 224))\n",
    "    # convert PIL.Image.Image type to 3D tensor with shape (224, 224, 3)\n",
    "    x = image.img_to_array(img)\n",
    "    # convert 3D tensor to 4D tensor with shape (1, 224, 224, 3) and return 4D tensor\n",
    "    return np.expand_dims(x, axis=0)\n",
    "\n",
    "def paths_to_tensor(img_paths):\n",
    "    list_of_tensors = [path_to_tensor(img_path) for img_path in tqdm(img_paths)]\n",
    "    return np.vstack(list_of_tensors)"
   ]
  },
  {
   "cell_type": "code",
   "execution_count": 48,
   "metadata": {},
   "outputs": [
    {
     "name": "stderr",
     "output_type": "stream",
     "text": [
      "100%|██████████| 4032/4032 [01:24<00:00, 36.69it/s]\n",
      "100%|██████████| 967/967 [00:22<00:00, 42.74it/s]\n"
     ]
    }
   ],
   "source": [
    "ImageFile.LOAD_TRUNCATED_IMAGES = True\n",
    "# pre-process the data for Keras\n",
    "train_tensors = paths_to_tensor(train_files).astype('float32')/255\n",
    "test_tensors = paths_to_tensor(test_files).astype('float32')/255"
   ]
  },
  {
   "cell_type": "code",
   "execution_count": 91,
   "metadata": {},
   "outputs": [
    {
     "data": {
      "text/plain": [
       "((4032, 224, 224, 3), (4032, 2))"
      ]
     },
     "execution_count": 91,
     "metadata": {},
     "output_type": "execute_result"
    }
   ],
   "source": [
    "train_tensors.shape, train_targets.shape"
   ]
  },
  {
   "cell_type": "code",
   "execution_count": 93,
   "metadata": {},
   "outputs": [
    {
     "name": "stdout",
     "output_type": "stream",
     "text": [
      "_________________________________________________________________\n",
      "Layer (type)                 Output Shape              Param #   \n",
      "=================================================================\n",
      "conv2d_40 (Conv2D)           (None, 222, 222, 64)      1792      \n",
      "_________________________________________________________________\n",
      "activation_47 (Activation)   (None, 222, 222, 64)      0         \n",
      "_________________________________________________________________\n",
      "max_pooling2d_38 (MaxPooling (None, 111, 111, 64)      0         \n",
      "_________________________________________________________________\n",
      "conv2d_41 (Conv2D)           (None, 109, 109, 64)      36928     \n",
      "_________________________________________________________________\n",
      "activation_48 (Activation)   (None, 109, 109, 64)      0         \n",
      "_________________________________________________________________\n",
      "max_pooling2d_39 (MaxPooling (None, 54, 54, 64)        0         \n",
      "_________________________________________________________________\n",
      "flatten_17 (Flatten)         (None, 186624)            0         \n",
      "_________________________________________________________________\n",
      "dense_21 (Dense)             (None, 64)                11944000  \n",
      "_________________________________________________________________\n",
      "dense_22 (Dense)             (None, 2)                 130       \n",
      "_________________________________________________________________\n",
      "activation_49 (Activation)   (None, 2)                 0         \n",
      "=================================================================\n",
      "Total params: 11,982,850\n",
      "Trainable params: 11,982,850\n",
      "Non-trainable params: 0\n",
      "_________________________________________________________________\n"
     ]
    }
   ],
   "source": [
    "model = Sequential()\n",
    "model.add( Conv2D(64, (3, 3), input_shape = train_tensors.shape[1:]) )\n",
    "model.add(Activation('relu'))\n",
    "model.add(MaxPooling2D(pool_size=(2, 2)))\n",
    "\n",
    "model.add(Conv2D(64, (3, 3)))\n",
    "model.add(Activation('relu'))\n",
    "model.add(MaxPooling2D(pool_size=(2, 2)))\n",
    "\n",
    "model.add(Flatten())\n",
    "\n",
    "# model.add(GlobalAveragePooling2D(input_shape=(train_tensors.shape[1:])))\n",
    "\n",
    "#---------------------------------------\n",
    "model.add(layers.Dense(64))\n",
    "model.add(layers.Dense(2))\n",
    "model.add(layers.Activation('softmax'))\n",
    "#----------------------------------------\n",
    "\n",
    "# model.add(layers.Dense(256))\n",
    "# model.add(layers.BatchNormalization())\n",
    "# model.add(layers.Activation('relu'))\n",
    "# model.add(layers.Dropout(0.5))\n",
    "\n",
    "# model.add(layers.Dense(2))\n",
    "# model.add(layers.BatchNormalization())\n",
    "# model.add(layers.Activation('softmax'))\n",
    "\n",
    "model.summary()"
   ]
  },
  {
   "cell_type": "code",
   "execution_count": 94,
   "metadata": {},
   "outputs": [
    {
     "name": "stdout",
     "output_type": "stream",
     "text": [
      "Train on 4032 samples, validate on 967 samples\n",
      "Epoch 1/2\n",
      "4032/4032 [==============================] - ETA: 23:36 - loss: 0.6919 - acc: 0.56 - ETA: 17:59 - loss: 2.8507 - acc: 0.62 - ETA: 15:32 - loss: 4.4052 - acc: 0.59 - ETA: 14:45 - loss: 4.6815 - acc: 0.60 - ETA: 13:59 - loss: 5.0476 - acc: 0.60 - ETA: 13:26 - loss: 5.1248 - acc: 0.61 - ETA: 13:14 - loss: 5.0367 - acc: 0.62 - ETA: 12:52 - loss: 5.2212 - acc: 0.62 - ETA: 13:03 - loss: 5.4760 - acc: 0.61 - ETA: 12:52 - loss: 5.5295 - acc: 0.61 - ETA: 12:35 - loss: 5.6644 - acc: 0.61 - ETA: 12:34 - loss: 5.9020 - acc: 0.59 - ETA: 12:30 - loss: 5.9104 - acc: 0.60 - ETA: 12:40 - loss: 5.8819 - acc: 0.60 - ETA: 12:32 - loss: 5.6233 - acc: 0.62 - ETA: 12:29 - loss: 5.7102 - acc: 0.61 - ETA: 12:20 - loss: 5.7574 - acc: 0.61 - ETA: 12:13 - loss: 5.8271 - acc: 0.61 - ETA: 12:06 - loss: 5.9423 - acc: 0.60 - ETA: 11:55 - loss: 5.9958 - acc: 0.60 - ETA: 11:51 - loss: 6.0204 - acc: 0.60 - ETA: 11:41 - loss: 6.0200 - acc: 0.60 - ETA: 11:34 - loss: 6.0632 - acc: 0.60 - ETA: 11:35 - loss: 6.1237 - acc: 0.60 - ETA: 11:29 - loss: 6.1993 - acc: 0.59 - ETA: 11:24 - loss: 6.1343 - acc: 0.60 - ETA: 11:18 - loss: 6.2039 - acc: 0.59 - ETA: 11:12 - loss: 6.2150 - acc: 0.59 - ETA: 11:05 - loss: 6.2252 - acc: 0.59 - ETA: 11:04 - loss: 6.2181 - acc: 0.59 - ETA: 10:57 - loss: 6.3245 - acc: 0.59 - ETA: 10:57 - loss: 6.3304 - acc: 0.59 - ETA: 10:50 - loss: 6.3663 - acc: 0.59 - ETA: 10:44 - loss: 6.3853 - acc: 0.59 - ETA: 10:39 - loss: 6.4032 - acc: 0.58 - ETA: 10:32 - loss: 6.3506 - acc: 0.59 - ETA: 10:23 - loss: 6.3550 - acc: 0.59 - ETA: 10:13 - loss: 6.3591 - acc: 0.59 - ETA: 10:07 - loss: 6.2860 - acc: 0.59 - ETA: 9:59 - loss: 6.2791 - acc: 0.5984 - ETA: 9:51 - loss: 6.2481 - acc: 0.600 - ETA: 9:44 - loss: 6.2664 - acc: 0.599 - ETA: 9:37 - loss: 6.2604 - acc: 0.600 - ETA: 9:32 - loss: 6.2662 - acc: 0.600 - ETA: 9:24 - loss: 6.2828 - acc: 0.599 - ETA: 9:16 - loss: 6.2986 - acc: 0.598 - ETA: 9:07 - loss: 6.2925 - acc: 0.599 - ETA: 9:00 - loss: 6.2971 - acc: 0.599 - ETA: 8:51 - loss: 6.2810 - acc: 0.600 - ETA: 8:43 - loss: 6.2957 - acc: 0.599 - ETA: 8:36 - loss: 6.3196 - acc: 0.598 - ETA: 8:27 - loss: 6.3329 - acc: 0.597 - ETA: 8:20 - loss: 6.3363 - acc: 0.597 - ETA: 8:12 - loss: 6.3025 - acc: 0.599 - ETA: 8:04 - loss: 6.2698 - acc: 0.601 - ETA: 7:57 - loss: 6.2294 - acc: 0.604 - ETA: 7:49 - loss: 6.2432 - acc: 0.603 - ETA: 7:41 - loss: 6.2737 - acc: 0.601 - ETA: 7:34 - loss: 6.3457 - acc: 0.597 - ETA: 7:25 - loss: 6.2984 - acc: 0.600 - ETA: 7:18 - loss: 6.2937 - acc: 0.600 - ETA: 7:11 - loss: 6.3053 - acc: 0.600 - ETA: 7:03 - loss: 6.3006 - acc: 0.600 - ETA: 6:56 - loss: 6.3509 - acc: 0.597 - ETA: 6:48 - loss: 6.3842 - acc: 0.595 - ETA: 6:41 - loss: 6.3710 - acc: 0.596 - ETA: 6:34 - loss: 6.3432 - acc: 0.598 - ETA: 6:27 - loss: 6.3309 - acc: 0.599 - ETA: 6:20 - loss: 6.3408 - acc: 0.598 - ETA: 6:14 - loss: 6.3075 - acc: 0.600 - ETA: 6:07 - loss: 6.3033 - acc: 0.601 - ETA: 6:00 - loss: 6.3201 - acc: 0.600 - ETA: 5:53 - loss: 6.2884 - acc: 0.602 - ETA: 5:47 - loss: 6.3118 - acc: 0.600 - ETA: 5:40 - loss: 6.3478 - acc: 0.598 - ETA: 5:34 - loss: 6.3368 - acc: 0.599 - ETA: 5:28 - loss: 6.3131 - acc: 0.601 - ETA: 5:21 - loss: 6.3028 - acc: 0.601 - ETA: 5:15 - loss: 6.2864 - acc: 0.602 - ETA: 5:09 - loss: 6.2830 - acc: 0.603 - ETA: 5:03 - loss: 6.2982 - acc: 0.602 - ETA: 4:56 - loss: 6.2703 - acc: 0.604 - ETA: 4:49 - loss: 6.2490 - acc: 0.605 - ETA: 4:43 - loss: 6.2581 - acc: 0.604 - ETA: 4:36 - loss: 6.2729 - acc: 0.604 - ETA: 4:30 - loss: 6.2932 - acc: 0.602 - ETA: 4:23 - loss: 6.3187 - acc: 0.601 - ETA: 4:16 - loss: 6.3095 - acc: 0.601 - ETA: 4:10 - loss: 6.3287 - acc: 0.600 - ETA: 4:03 - loss: 6.3085 - acc: 0.602 - ETA: 3:56 - loss: 6.3327 - acc: 0.600 - ETA: 3:50 - loss: 6.3456 - acc: 0.599 - ETA: 3:43 - loss: 6.3527 - acc: 0.599 - ETA: 3:36 - loss: 6.3331 - acc: 0.600 - ETA: 3:30 - loss: 6.3403 - acc: 0.600 - ETA: 3:23 - loss: 6.3421 - acc: 0.600 - ETA: 3:16 - loss: 6.3438 - acc: 0.600 - ETA: 3:09 - loss: 6.3302 - acc: 0.601 - ETA: 3:02 - loss: 6.3574 - acc: 0.599 - ETA: 2:55 - loss: 6.3589 - acc: 0.599 - ETA: 2:48 - loss: 6.3406 - acc: 0.600 - ETA: 2:42 - loss: 6.3423 - acc: 0.600 - ETA: 2:35 - loss: 6.3536 - acc: 0.599 - ETA: 2:28 - loss: 6.3600 - acc: 0.599 - ETA: 2:21 - loss: 6.3519 - acc: 0.600 - ETA: 2:15 - loss: 6.3723 - acc: 0.598 - ETA: 2:08 - loss: 6.3596 - acc: 0.599 - ETA: 2:01 - loss: 6.3563 - acc: 0.599 - ETA: 1:54 - loss: 6.3394 - acc: 0.600 - ETA: 1:47 - loss: 6.3228 - acc: 0.602 - ETA: 1:41 - loss: 6.3290 - acc: 0.601 - ETA: 1:34 - loss: 6.3351 - acc: 0.601 - ETA: 1:27 - loss: 6.3366 - acc: 0.601 - ETA: 1:20 - loss: 6.3382 - acc: 0.601 - ETA: 1:14 - loss: 6.3310 - acc: 0.601 - ETA: 1:07 - loss: 6.3153 - acc: 0.602 - ETA: 1:00 - loss: 6.3298 - acc: 0.601 - ETA: 54s - loss: 6.3314 - acc: 0.601 - ETA: 47s - loss: 6.3455 - acc: 0.60 - ETA: 40s - loss: 6.3469 - acc: 0.60 - ETA: 33s - loss: 6.3607 - acc: 0.59 - ETA: 27s - loss: 6.3537 - acc: 0.60 - ETA: 20s - loss: 6.3428 - acc: 0.60 - ETA: 13s - loss: 6.3441 - acc: 0.60 - ETA: 6s - loss: 6.3335 - acc: 0.6018 - 928s 230ms/step - loss: 6.3349 - acc: 0.6017 - val_loss: 10.5763 - val_acc: 0.3402\n",
      "Epoch 2/2\n",
      "4032/4032 [==============================] - ETA: 14:24 - loss: 5.0094 - acc: 0.68 - ETA: 14:47 - loss: 5.7609 - acc: 0.64 - ETA: 14:13 - loss: 6.0113 - acc: 0.62 - ETA: 14:03 - loss: 5.8861 - acc: 0.63 - ETA: 13:56 - loss: 6.4121 - acc: 0.60 - ETA: 13:39 - loss: 6.4288 - acc: 0.59 - ETA: 13:35 - loss: 6.1545 - acc: 0.61 - ETA: 13:16 - loss: 6.1992 - acc: 0.61 - ETA: 13:12 - loss: 6.0113 - acc: 0.62 - ETA: 13:05 - loss: 6.2618 - acc: 0.60 - ETA: 12:55 - loss: 6.1480 - acc: 0.61 - ETA: 12:53 - loss: 6.1366 - acc: 0.61 - ETA: 12:39 - loss: 6.2040 - acc: 0.61 - ETA: 12:36 - loss: 6.1545 - acc: 0.61 - ETA: 12:24 - loss: 6.0113 - acc: 0.62 - ETA: 12:49 - loss: 6.1366 - acc: 0.61 - ETA: 13:11 - loss: 6.0703 - acc: 0.62 - ETA: 13:15 - loss: 6.1505 - acc: 0.61 - ETA: 13:19 - loss: 6.0377 - acc: 0.62 - ETA: 13:12 - loss: 6.0865 - acc: 0.62 - ETA: 13:08 - loss: 6.1306 - acc: 0.61 - ETA: 13:06 - loss: 6.1935 - acc: 0.61 - ETA: 13:06 - loss: 6.2074 - acc: 0.61 - ETA: 12:59 - loss: 6.2409 - acc: 0.61 - ETA: 12:54 - loss: 6.2117 - acc: 0.61 - ETA: 12:44 - loss: 6.3003 - acc: 0.60 - ETA: 12:39 - loss: 6.2340 - acc: 0.61 - ETA: 12:30 - loss: 6.2260 - acc: 0.61 - ETA: 12:24 - loss: 6.1668 - acc: 0.61 - ETA: 12:13 - loss: 6.1449 - acc: 0.61 - ETA: 12:03 - loss: 6.1568 - acc: 0.61 - ETA: 11:53 - loss: 6.1679 - acc: 0.61 - ETA: 11:47 - loss: 6.1480 - acc: 0.61 - ETA: 11:42 - loss: 6.1292 - acc: 0.61 - ETA: 11:36 - loss: 6.1402 - acc: 0.61 - ETA: 11:31 - loss: 6.0948 - acc: 0.61 - ETA: 11:26 - loss: 6.1738 - acc: 0.61 - ETA: 11:20 - loss: 6.1564 - acc: 0.61 - ETA: 11:15 - loss: 6.1912 - acc: 0.61 - ETA: 11:08 - loss: 6.1992 - acc: 0.61 - ETA: 11:03 - loss: 6.1824 - acc: 0.61 - ETA: 10:56 - loss: 6.1425 - acc: 0.61 - ETA: 10:51 - loss: 6.1744 - acc: 0.61 - ETA: 10:42 - loss: 6.1707 - acc: 0.61 - ETA: 10:35 - loss: 6.2117 - acc: 0.61 - ETA: 10:28 - loss: 6.1856 - acc: 0.61 - ETA: 10:22 - loss: 6.1712 - acc: 0.61 - ETA: 10:15 - loss: 6.1366 - acc: 0.61 - ETA: 10:10 - loss: 6.1442 - acc: 0.61 - ETA: 10:03 - loss: 6.1516 - acc: 0.61 - ETA: 9:57 - loss: 6.2078 - acc: 0.6127 - ETA: 9:51 - loss: 6.1751 - acc: 0.614 - ETA: 9:43 - loss: 6.2193 - acc: 0.612 - ETA: 9:37 - loss: 6.2154 - acc: 0.612 - ETA: 9:29 - loss: 6.1935 - acc: 0.613 - ETA: 9:23 - loss: 6.1902 - acc: 0.613 - ETA: 9:16 - loss: 6.2047 - acc: 0.612 - ETA: 9:09 - loss: 6.2273 - acc: 0.611 - ETA: 9:01 - loss: 6.2066 - acc: 0.612 - ETA: 8:52 - loss: 6.2201 - acc: 0.612 - ETA: 8:44 - loss: 6.2249 - acc: 0.611 - ETA: 8:36 - loss: 6.2053 - acc: 0.612 - ETA: 8:26 - loss: 6.2181 - acc: 0.612 - ETA: 8:18 - loss: 6.2462 - acc: 0.610 - ETA: 8:10 - loss: 6.2194 - acc: 0.612 - ETA: 8:02 - loss: 6.2163 - acc: 0.612 - ETA: 7:54 - loss: 6.1908 - acc: 0.613 - ETA: 7:47 - loss: 6.1881 - acc: 0.614 - ETA: 7:39 - loss: 6.2001 - acc: 0.613 - ETA: 7:32 - loss: 6.1831 - acc: 0.614 - ETA: 7:24 - loss: 6.2089 - acc: 0.612 - ETA: 7:16 - loss: 6.2062 - acc: 0.612 - ETA: 7:09 - loss: 6.2652 - acc: 0.609 - ETA: 7:01 - loss: 6.3024 - acc: 0.606 - ETA: 6:53 - loss: 6.3186 - acc: 0.605 - ETA: 6:45 - loss: 6.3475 - acc: 0.604 - ETA: 6:38 - loss: 6.3692 - acc: 0.602 - ETA: 6:29 - loss: 6.3646 - acc: 0.603 - ETA: 6:21 - loss: 6.3728 - acc: 0.602 - ETA: 6:12 - loss: 6.3808 - acc: 0.602 - ETA: 6:04 - loss: 6.3577 - acc: 0.603 - ETA: 5:56 - loss: 6.3718 - acc: 0.602 - ETA: 5:47 - loss: 6.3554 - acc: 0.603 - ETA: 5:39 - loss: 6.3274 - acc: 0.605 - ETA: 5:31 - loss: 6.3119 - acc: 0.606 - ETA: 5:22 - loss: 6.3142 - acc: 0.606 - ETA: 5:14 - loss: 6.2935 - acc: 0.607 - ETA: 5:06 - loss: 6.2789 - acc: 0.608 - ETA: 4:58 - loss: 6.2815 - acc: 0.608 - ETA: 4:50 - loss: 6.2729 - acc: 0.608 - ETA: 4:41 - loss: 6.3141 - acc: 0.606 - ETA: 4:33 - loss: 6.3326 - acc: 0.605 - ETA: 4:25 - loss: 6.3453 - acc: 0.604 - ETA: 4:17 - loss: 6.3524 - acc: 0.603 - ETA: 4:09 - loss: 6.3752 - acc: 0.602 - ETA: 4:01 - loss: 6.3923 - acc: 0.601 - ETA: 3:52 - loss: 6.3677 - acc: 0.602 - ETA: 3:44 - loss: 6.3947 - acc: 0.601 - ETA: 3:36 - loss: 6.3858 - acc: 0.601 - ETA: 3:28 - loss: 6.3870 - acc: 0.601 - ETA: 3:20 - loss: 6.3883 - acc: 0.601 - ETA: 3:12 - loss: 6.3993 - acc: 0.600 - ETA: 3:04 - loss: 6.4004 - acc: 0.600 - ETA: 2:56 - loss: 6.3919 - acc: 0.601 - ETA: 2:48 - loss: 6.3978 - acc: 0.600 - ETA: 2:40 - loss: 6.4272 - acc: 0.599 - ETA: 2:32 - loss: 6.4421 - acc: 0.598 - ETA: 2:24 - loss: 6.4566 - acc: 0.597 - ETA: 2:15 - loss: 6.4709 - acc: 0.596 - ETA: 2:07 - loss: 6.4622 - acc: 0.596 - ETA: 1:59 - loss: 6.4581 - acc: 0.597 - ETA: 1:51 - loss: 6.4586 - acc: 0.597 - ETA: 1:43 - loss: 6.4591 - acc: 0.597 - ETA: 1:35 - loss: 6.4683 - acc: 0.596 - ETA: 1:27 - loss: 6.4687 - acc: 0.596 - ETA: 1:19 - loss: 6.4518 - acc: 0.597 - ETA: 1:11 - loss: 6.4652 - acc: 0.596 - ETA: 1:03 - loss: 6.4571 - acc: 0.597 - ETA: 55s - loss: 6.4534 - acc: 0.597 - ETA: 47s - loss: 6.4497 - acc: 0.59 - ETA: 39s - loss: 6.4460 - acc: 0.59 - ETA: 31s - loss: 6.4343 - acc: 0.59 - ETA: 23s - loss: 6.4308 - acc: 0.59 - ETA: 15s - loss: 6.4153 - acc: 0.59 - ETA: 7s - loss: 6.4041 - acc: 0.6005 - 1092s 271ms/step - loss: 6.3890 - acc: 0.6014 - val_loss: 10.5763 - val_acc: 0.3402\n"
     ]
    },
    {
     "data": {
      "text/plain": [
       "<keras.callbacks.History at 0x272f040feb8>"
      ]
     },
     "execution_count": 94,
     "metadata": {},
     "output_type": "execute_result"
    }
   ],
   "source": [
    "model.compile(loss='binary_crossentropy', optimizer = 'adam', metrics=['accuracy'])\n",
    "\n",
    "model.fit(train_tensors, train_targets, \n",
    "          validation_data=(test_tensors, test_targets),\n",
    "          epochs=2, batch_size=32, verbose=1, shuffle=True)"
   ]
  },
  {
   "cell_type": "code",
   "execution_count": 95,
   "metadata": {},
   "outputs": [
    {
     "name": "stdout",
     "output_type": "stream",
     "text": [
      "Test accuracy: 34.0228%\n"
     ]
    }
   ],
   "source": [
    "### Calculate classification accuracy on the test dataset.\n",
    "\n",
    "# get index of predicted dog breed for each image in test set\n",
    "predictions = [np.argmax(model.predict(np.expand_dims(feature, axis=0))) for feature in tqdm(test_tensors)]\n",
    "\n",
    "# report test accuracy\n",
    "test_accuracy = 100*np.sum(np.array(predictions)==np.argmax(test_targets, axis=1))/len(predictions)\n",
    "print('Test accuracy: %.4f%%' % test_accuracy)"
   ]
  },
  {
   "cell_type": "markdown",
   "metadata": {},
   "source": [
    "### New model"
   ]
  },
  {
   "cell_type": "code",
   "execution_count": 96,
   "metadata": {},
   "outputs": [
    {
     "name": "stdout",
     "output_type": "stream",
     "text": [
      "Train on 3628 samples, validate on 404 samples\n",
      "Epoch 1/2\n",
      "3628/3628 [==============================] - ETA: 14:19 - loss: 4.5085 - acc: 0.71 - ETA: 14:41 - loss: 4.2580 - acc: 0.73 - ETA: 13:49 - loss: 5.3434 - acc: 0.66 - ETA: 14:04 - loss: 5.7609 - acc: 0.64 - ETA: 13:48 - loss: 6.1115 - acc: 0.61 - ETA: 13:45 - loss: 6.0113 - acc: 0.62 - ETA: 13:37 - loss: 6.2976 - acc: 0.60 - ETA: 13:37 - loss: 6.1992 - acc: 0.61 - ETA: 13:25 - loss: 6.2340 - acc: 0.61 - ETA: 13:22 - loss: 6.2618 - acc: 0.60 - ETA: 13:08 - loss: 6.1024 - acc: 0.61 - ETA: 13:07 - loss: 6.0948 - acc: 0.61 - ETA: 12:58 - loss: 6.0113 - acc: 0.62 - ETA: 12:53 - loss: 6.1545 - acc: 0.61 - ETA: 12:41 - loss: 6.1783 - acc: 0.61 - ETA: 12:35 - loss: 6.1992 - acc: 0.61 - ETA: 12:23 - loss: 6.1292 - acc: 0.61 - ETA: 12:18 - loss: 6.2618 - acc: 0.60 - ETA: 12:07 - loss: 6.3014 - acc: 0.60 - ETA: 12:01 - loss: 6.3620 - acc: 0.60 - ETA: 11:54 - loss: 6.3453 - acc: 0.60 - ETA: 11:43 - loss: 6.4440 - acc: 0.59 - ETA: 11:37 - loss: 6.4687 - acc: 0.59 - ETA: 11:28 - loss: 6.5123 - acc: 0.59 - ETA: 11:20 - loss: 6.4722 - acc: 0.59 - ETA: 11:11 - loss: 6.4159 - acc: 0.59 - ETA: 11:05 - loss: 6.4381 - acc: 0.59 - ETA: 10:57 - loss: 6.3513 - acc: 0.60 - ETA: 10:50 - loss: 6.3395 - acc: 0.60 - ETA: 10:41 - loss: 6.3119 - acc: 0.60 - ETA: 10:35 - loss: 6.3022 - acc: 0.60 - ETA: 10:26 - loss: 6.2148 - acc: 0.61 - ETA: 10:20 - loss: 6.1935 - acc: 0.61 - ETA: 10:11 - loss: 6.2323 - acc: 0.61 - ETA: 10:03 - loss: 6.2117 - acc: 0.61 - ETA: 9:54 - loss: 6.2340 - acc: 0.6111 - ETA: 9:47 - loss: 6.2009 - acc: 0.613 - ETA: 9:39 - loss: 6.1432 - acc: 0.616 - ETA: 9:30 - loss: 6.1783 - acc: 0.614 - ETA: 9:22 - loss: 6.2242 - acc: 0.611 - ETA: 9:15 - loss: 6.2679 - acc: 0.609 - ETA: 9:07 - loss: 6.2857 - acc: 0.607 - ETA: 8:59 - loss: 6.3142 - acc: 0.606 - ETA: 8:52 - loss: 6.3301 - acc: 0.605 - ETA: 8:44 - loss: 6.2785 - acc: 0.608 - ETA: 8:35 - loss: 6.2727 - acc: 0.608 - ETA: 8:28 - loss: 6.2458 - acc: 0.610 - ETA: 8:20 - loss: 6.2409 - acc: 0.610 - ETA: 8:12 - loss: 6.3283 - acc: 0.605 - ETA: 8:05 - loss: 6.3219 - acc: 0.605 - ETA: 7:56 - loss: 6.3257 - acc: 0.605 - ETA: 7:49 - loss: 6.3196 - acc: 0.605 - ETA: 7:41 - loss: 6.3138 - acc: 0.606 - ETA: 7:35 - loss: 6.2896 - acc: 0.607 - ETA: 7:26 - loss: 6.2937 - acc: 0.607 - ETA: 7:20 - loss: 6.3244 - acc: 0.605 - ETA: 7:13 - loss: 6.3541 - acc: 0.603 - ETA: 7:08 - loss: 6.3395 - acc: 0.604 - ETA: 7:00 - loss: 6.3595 - acc: 0.603 - ETA: 6:52 - loss: 6.3704 - acc: 0.602 - ETA: 6:44 - loss: 6.3809 - acc: 0.601 - ETA: 6:37 - loss: 6.4072 - acc: 0.600 - ETA: 6:29 - loss: 6.4646 - acc: 0.596 - ETA: 6:22 - loss: 6.4497 - acc: 0.597 - ETA: 6:14 - loss: 6.4352 - acc: 0.598 - ETA: 6:07 - loss: 6.4212 - acc: 0.599 - ETA: 6:00 - loss: 6.4375 - acc: 0.598 - ETA: 5:52 - loss: 6.4534 - acc: 0.597 - ETA: 5:45 - loss: 6.4324 - acc: 0.598 - ETA: 5:38 - loss: 6.4264 - acc: 0.599 - ETA: 5:30 - loss: 6.4206 - acc: 0.599 - ETA: 5:23 - loss: 6.4497 - acc: 0.597 - ETA: 5:15 - loss: 6.4574 - acc: 0.597 - ETA: 5:08 - loss: 6.4649 - acc: 0.596 - ETA: 5:01 - loss: 6.4455 - acc: 0.597 - ETA: 4:53 - loss: 6.4332 - acc: 0.598 - ETA: 4:45 - loss: 6.4082 - acc: 0.600 - ETA: 4:38 - loss: 6.4288 - acc: 0.599 - ETA: 4:30 - loss: 6.4235 - acc: 0.599 - ETA: 4:22 - loss: 6.4121 - acc: 0.600 - ETA: 4:15 - loss: 6.4319 - acc: 0.598 - ETA: 4:07 - loss: 6.4451 - acc: 0.597 - ETA: 3:59 - loss: 6.4218 - acc: 0.599 - ETA: 3:52 - loss: 6.4169 - acc: 0.599 - ETA: 3:44 - loss: 6.4357 - acc: 0.598 - ETA: 3:36 - loss: 6.4540 - acc: 0.597 - ETA: 3:28 - loss: 6.4489 - acc: 0.597 - ETA: 3:20 - loss: 6.4554 - acc: 0.597 - ETA: 3:12 - loss: 6.4504 - acc: 0.597 - ETA: 3:04 - loss: 6.4455 - acc: 0.597 - ETA: 2:57 - loss: 6.4627 - acc: 0.596 - ETA: 2:49 - loss: 6.4687 - acc: 0.596 - ETA: 2:41 - loss: 6.4692 - acc: 0.596 - ETA: 2:33 - loss: 6.4483 - acc: 0.597 - ETA: 2:25 - loss: 6.4754 - acc: 0.596 - ETA: 2:18 - loss: 6.4549 - acc: 0.597 - ETA: 2:10 - loss: 6.4451 - acc: 0.597 - ETA: 2:02 - loss: 6.4305 - acc: 0.598 - ETA: 1:54 - loss: 6.4313 - acc: 0.598 - ETA: 1:46 - loss: 6.4422 - acc: 0.598 - ETA: 1:38 - loss: 6.4180 - acc: 0.599 - ETA: 1:30 - loss: 6.3944 - acc: 0.601 - ETA: 1:22 - loss: 6.3907 - acc: 0.601 - ETA: 1:14 - loss: 6.3919 - acc: 0.601 - ETA: 1:06 - loss: 6.3930 - acc: 0.601 - ETA: 59s - loss: 6.3989 - acc: 0.600 - ETA: 51s - loss: 6.4140 - acc: 0.59 - ETA: 43s - loss: 6.4010 - acc: 0.60 - ETA: 35s - loss: 6.4066 - acc: 0.60 - ETA: 27s - loss: 6.4258 - acc: 0.59 - ETA: 19s - loss: 6.4130 - acc: 0.59 - ETA: 11s - loss: 6.4228 - acc: 0.59 - ETA: 3s - loss: 6.4148 - acc: 0.5998 - 948s 261ms/step - loss: 6.4245 - acc: 0.5992 - val_loss: 6.0709 - val_acc: 0.6213\n",
      "Epoch 2/2\n",
      "3628/3628 [==============================] - ETA: 17:32 - loss: 8.0151 - acc: 0.50 - ETA: 16:01 - loss: 7.5142 - acc: 0.53 - ETA: 16:17 - loss: 6.6793 - acc: 0.58 - ETA: 15:47 - loss: 6.2618 - acc: 0.60 - ETA: 15:42 - loss: 6.6125 - acc: 0.58 - ETA: 15:28 - loss: 6.6793 - acc: 0.58 - ETA: 15:19 - loss: 6.7270 - acc: 0.58 - ETA: 15:06 - loss: 6.7628 - acc: 0.57 - ETA: 14:59 - loss: 6.7906 - acc: 0.57 - ETA: 14:49 - loss: 6.7628 - acc: 0.57 - ETA: 14:39 - loss: 6.8766 - acc: 0.57 - ETA: 14:32 - loss: 6.7628 - acc: 0.57 - ETA: 14:20 - loss: 6.6664 - acc: 0.58 - ETA: 14:12 - loss: 6.5481 - acc: 0.59 - ETA: 14:00 - loss: 6.4121 - acc: 0.60 - ETA: 13:55 - loss: 6.2305 - acc: 0.61 - ETA: 13:41 - loss: 6.2176 - acc: 0.61 - ETA: 13:35 - loss: 6.1505 - acc: 0.61 - ETA: 13:24 - loss: 6.1695 - acc: 0.61 - ETA: 13:20 - loss: 6.2869 - acc: 0.60 - ETA: 13:10 - loss: 6.3214 - acc: 0.60 - ETA: 13:03 - loss: 6.3529 - acc: 0.60 - ETA: 12:53 - loss: 6.3598 - acc: 0.60 - ETA: 12:45 - loss: 6.3453 - acc: 0.60 - ETA: 12:37 - loss: 6.3921 - acc: 0.60 - ETA: 12:28 - loss: 6.3967 - acc: 0.60 - ETA: 12:18 - loss: 6.4010 - acc: 0.60 - ETA: 12:11 - loss: 6.3870 - acc: 0.60 - ETA: 12:03 - loss: 6.3741 - acc: 0.60 - ETA: 11:54 - loss: 6.4455 - acc: 0.59 - ETA: 11:47 - loss: 6.4638 - acc: 0.59 - ETA: 11:38 - loss: 6.4340 - acc: 0.59 - ETA: 11:30 - loss: 6.4060 - acc: 0.60 - ETA: 11:21 - loss: 6.4976 - acc: 0.59 - ETA: 11:13 - loss: 6.4550 - acc: 0.59 - ETA: 11:05 - loss: 6.4984 - acc: 0.59 - ETA: 10:56 - loss: 6.5800 - acc: 0.58 - ETA: 10:48 - loss: 6.5518 - acc: 0.59 - ETA: 10:38 - loss: 6.5765 - acc: 0.58 - ETA: 10:30 - loss: 6.5373 - acc: 0.59 - ETA: 10:21 - loss: 6.5367 - acc: 0.59 - ETA: 10:13 - loss: 6.5123 - acc: 0.59 - ETA: 10:03 - loss: 6.5123 - acc: 0.59 - ETA: 9:56 - loss: 6.5237 - acc: 0.5930 - ETA: 9:47 - loss: 6.5345 - acc: 0.592 - ETA: 9:39 - loss: 6.5450 - acc: 0.591 - ETA: 9:35 - loss: 6.5229 - acc: 0.593 - ETA: 9:24 - loss: 6.4914 - acc: 0.595 - ETA: 9:12 - loss: 6.4612 - acc: 0.596 - ETA: 8:59 - loss: 6.4822 - acc: 0.595 - ETA: 8:47 - loss: 6.4926 - acc: 0.595 - ETA: 8:37 - loss: 6.4738 - acc: 0.596 - ETA: 8:26 - loss: 6.4839 - acc: 0.595 - ETA: 8:15 - loss: 6.4937 - acc: 0.594 - ETA: 8:04 - loss: 6.5214 - acc: 0.593 - ETA: 7:53 - loss: 6.5123 - acc: 0.593 - ETA: 7:42 - loss: 6.5299 - acc: 0.592 - ETA: 7:32 - loss: 6.5296 - acc: 0.592 - ETA: 7:21 - loss: 6.5038 - acc: 0.594 - ETA: 7:11 - loss: 6.5373 - acc: 0.592 - ETA: 7:01 - loss: 6.5369 - acc: 0.592 - ETA: 6:50 - loss: 6.5204 - acc: 0.593 - ETA: 6:41 - loss: 6.5202 - acc: 0.593 - ETA: 6:31 - loss: 6.5279 - acc: 0.592 - ETA: 6:21 - loss: 6.5585 - acc: 0.590 - ETA: 6:12 - loss: 6.5578 - acc: 0.590 - ETA: 6:03 - loss: 6.5347 - acc: 0.592 - ETA: 5:53 - loss: 6.5123 - acc: 0.593 - ETA: 5:44 - loss: 6.5195 - acc: 0.593 - ETA: 5:35 - loss: 6.4908 - acc: 0.595 - ETA: 5:26 - loss: 6.4770 - acc: 0.596 - ETA: 5:18 - loss: 6.4636 - acc: 0.596 - ETA: 5:09 - loss: 6.4574 - acc: 0.597 - ETA: 5:00 - loss: 6.4311 - acc: 0.598 - ETA: 4:52 - loss: 6.4188 - acc: 0.599 - ETA: 4:43 - loss: 6.4266 - acc: 0.599 - ETA: 4:35 - loss: 6.4212 - acc: 0.599 - ETA: 4:26 - loss: 6.3903 - acc: 0.601 - ETA: 4:18 - loss: 6.3855 - acc: 0.601 - ETA: 4:10 - loss: 6.3870 - acc: 0.601 - ETA: 4:02 - loss: 6.3824 - acc: 0.601 - ETA: 3:53 - loss: 6.3779 - acc: 0.602 - ETA: 3:45 - loss: 6.3916 - acc: 0.601 - ETA: 3:37 - loss: 6.3990 - acc: 0.600 - ETA: 3:29 - loss: 6.3826 - acc: 0.601 - ETA: 3:21 - loss: 6.3667 - acc: 0.602 - ETA: 3:14 - loss: 6.3741 - acc: 0.602 - ETA: 3:06 - loss: 6.4098 - acc: 0.600 - ETA: 2:58 - loss: 6.4279 - acc: 0.599 - ETA: 2:50 - loss: 6.4455 - acc: 0.597 - ETA: 2:43 - loss: 6.4297 - acc: 0.598 - ETA: 2:35 - loss: 6.4361 - acc: 0.598 - ETA: 2:28 - loss: 6.4530 - acc: 0.597 - ETA: 2:20 - loss: 6.4590 - acc: 0.597 - ETA: 2:13 - loss: 6.4701 - acc: 0.596 - ETA: 2:05 - loss: 6.4705 - acc: 0.596 - ETA: 1:58 - loss: 6.4606 - acc: 0.597 - ETA: 1:50 - loss: 6.4663 - acc: 0.596 - ETA: 1:43 - loss: 6.4566 - acc: 0.597 - ETA: 1:35 - loss: 6.4772 - acc: 0.595 - ETA: 1:28 - loss: 6.4875 - acc: 0.595 - ETA: 1:21 - loss: 6.4828 - acc: 0.595 - ETA: 1:14 - loss: 6.4685 - acc: 0.596 - ETA: 1:06 - loss: 6.4400 - acc: 0.598 - ETA: 59s - loss: 6.4646 - acc: 0.596 - ETA: 52s - loss: 6.4698 - acc: 0.59 - ETA: 45s - loss: 6.4467 - acc: 0.59 - ETA: 38s - loss: 6.4566 - acc: 0.59 - ETA: 30s - loss: 6.4525 - acc: 0.59 - ETA: 23s - loss: 6.4485 - acc: 0.59 - ETA: 16s - loss: 6.4401 - acc: 0.59 - ETA: 9s - loss: 6.4362 - acc: 0.5985 - ETA: 2s - loss: 6.4325 - acc: 0.598 - 821s 226ms/step - loss: 6.4245 - acc: 0.5992 - val_loss: 6.0709 - val_acc: 0.6213\n"
     ]
    }
   ],
   "source": [
    "model.compile(loss='binary_crossentropy', optimizer = 'adam', metrics=['accuracy'])\n",
    "History = model.fit(train_tensors, train_targets, validation_split = 0.1,\n",
    "          epochs=2, batch_size=32, verbose=1, shuffle=True) #callbacks=[tensorboard]"
   ]
  },
  {
   "cell_type": "code",
   "execution_count": 97,
   "metadata": {},
   "outputs": [
    {
     "name": "stderr",
     "output_type": "stream",
     "text": [
      "100%|██████████| 967/967 [01:11<00:00, 14.37it/s]\n"
     ]
    },
    {
     "name": "stdout",
     "output_type": "stream",
     "text": [
      "Test accuracy: 34.0228%\n"
     ]
    }
   ],
   "source": [
    "### Calculate classification accuracy on the test dataset.\n",
    "\n",
    "# get index of predicted dog breed for each image in test set\n",
    "predictions = [np.argmax(model.predict(np.expand_dims(feature, axis=0))) for feature in tqdm(test_tensors)]\n",
    "\n",
    "# report test accuracy\n",
    "test_accuracy = 100*np.sum(np.array(predictions)==np.argmax(test_targets, axis=1))/len(predictions)\n",
    "print('Test accuracy: %.4f%%' % test_accuracy)"
   ]
  },
  {
   "cell_type": "code",
   "execution_count": 115,
   "metadata": {},
   "outputs": [
    {
     "data": {
      "image/png": "[encoded data removed]",
      "text/plain": [
       "<Figure size 720x720 with 2 Axes>"
      ]
     },
     "metadata": {
      "needs_background": "light"
     },
     "output_type": "display_data"
    }
   ],
   "source": [
    "plt.figure(1, figsize=(10,10))  \n",
    "\n",
    "# summarize history for accuracy  \n",
    "\n",
    "plt.subplot(211)  \n",
    "plt.plot(History.history['acc'])  \n",
    "plt.plot(History.history['val_acc'])  \n",
    "plt.title('Model Accuracy')  \n",
    "plt.ylabel('Accuracy')  \n",
    "plt.xlabel('Epoch')  \n",
    "plt.legend(['train', 'val'], loc='upper left')  \n",
    "\n",
    "# summarize history for loss  \n",
    "\n",
    "plt.subplot(212)  \n",
    "plt.plot(History.history['loss'])  \n",
    "plt.plot(History.history['val_loss'])  \n",
    "plt.title('Model Loss')  \n",
    "plt.ylabel('Loss')  \n",
    "plt.xlabel('Epoch')  \n",
    "plt.legend(['train', 'val'], loc='upper left')  \n",
    "plt.show()"
   ]
  },
  {
   "cell_type": "code",
   "execution_count": 100,
   "metadata": {},
   "outputs": [
    {
     "data": {
      "text/plain": [
       "{'val_loss': [6.0708578600741845, 6.0708578600741845],\n",
       " 'val_acc': [0.6212871287128713, 0.6212871287128713],\n",
       " 'loss': [6.424467478986612, 6.42446746006033],\n",
       " 'acc': [0.5992282248844517, 0.5992282249173098]}"
      ]
     },
     "execution_count": 100,
     "metadata": {},
     "output_type": "execute_result"
    }
   ],
   "source": [
    "History.history"
   ]
  },
  {
   "cell_type": "code",
   "execution_count": null,
   "metadata": {},
   "outputs": [],
   "source": []
  },
  {
   "cell_type": "code",
   "execution_count": null,
   "metadata": {},
   "outputs": [],
   "source": []
  }
 ],
 "metadata": {
  "kernelspec": {
   "display_name": "Python 3",
   "language": "python",
   "name": "python3"
  },
  "language_info": {
   "codemirror_mode": {
    "name": "ipython",
    "version": 3
   },
   "file_extension": ".py",
   "mimetype": "text/x-python",
   "name": "python",
   "nbconvert_exporter": "python",
   "pygments_lexer": "ipython3",
   "version": "3.6.6"
  }
 },
 "nbformat": 4,
 "nbformat_minor": 2
}
