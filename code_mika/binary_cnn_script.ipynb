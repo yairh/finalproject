{
 "cells": [
  {
   "cell_type": "code",
   "execution_count": 13,
   "metadata": {},
   "outputs": [],
   "source": [
    "from sklearn.datasets import load_files\n",
    "from keras.utils import np_utils\n",
    "import numpy as np\n",
    "import pandas as pd\n",
    "from glob import glob\n",
    "from IPython.core.display import Image, display\n",
    "import cv2                \n",
    "import matplotlib.pyplot as plt                        \n",
    "%matplotlib inline\n",
    "\n",
    "from sklearn.metrics import classification_report\n",
    "\n",
    "from keras import models, layers, optimizers\n",
    "from keras.preprocessing import image\n",
    "from keras.applications.vgg19 import VGG19\n",
    "from keras.applications.resnet50 import ResNet50\n",
    "from keras.applications.resnet50 import preprocess_input, decode_predictions\n",
    "from keras.preprocessing.image import ImageDataGenerator\n",
    "from keras.applications import VGG16\n",
    "from keras.applications.vgg16 import VGG16, preprocess_input\n",
    "from keras.callbacks import ModelCheckpoint\n",
    "from tqdm import tqdm\n",
    "import math\n",
    "import pickle\n",
    "import os\n",
    "from PIL import ImageFile\n",
    "import time\n",
    "\n",
    "from keras.layers import Conv2D, MaxPooling2D, GlobalAveragePooling2D\n",
    "from keras.layers import Dropout, Flatten, Dense, Activation\n",
    "from keras.models import Sequential\n",
    "import tensorflow as tf\n",
    "from tensorflow.keras.callbacks import TensorBoard\n",
    "# from keras.callbacks import TensorBoard"
   ]
  },
  {
   "cell_type": "code",
   "execution_count": 2,
   "metadata": {},
   "outputs": [],
   "source": [
    "# Add GPU options\n",
    "gpu_options = tf.GPUOptions(per_process_gpu_memory_fraction = 0.333)\n",
    "sess = tf.Session(config = tf.ConfigProto(gpu_options = gpu_options))\n",
    "NAME = 'Binary_chest_cnn_64x3_{}'.format(int(time.time()))\n",
    "tensorboard = TensorBoard(log_dir='logs/{}'.format(NAME))\n",
    "#tensorboard --logdir=logs/ --host localhost --port 8088"
   ]
  },
  {
   "cell_type": "markdown",
   "metadata": {},
   "source": [
    "# Information"
   ]
  },
  {
   "cell_type": "code",
   "execution_count": 31,
   "metadata": {},
   "outputs": [
    {
     "name": "stdout",
     "output_type": "stream",
     "text": [
      "Statistics about the Dataset:\n",
      "\n",
      "There are 2 total chest deseases.\n",
      "There are 4999 total chest images.\n",
      "\n",
      "There are 4032 training chest images.\n",
      "There are 967 test chest images.\n"
     ]
    }
   ],
   "source": [
    "# define function to load train, test, and validation datasets\n",
    "def load_dataset(path):\n",
    "    \"\"\"Returns the path and the Label from the folder\"\"\"\n",
    "    data = load_files(path)\n",
    "    chest_files = np.array(data['filenames'])\n",
    "    chest_targets = np_utils.to_categorical(np.array(data['target']), 2)\n",
    "    return chest_files, chest_targets\n",
    "\n",
    "# load train, test, and validation datasets\n",
    "train_files, train_targets = load_dataset('../imgs/images/train')\n",
    "test_files, test_targets = load_dataset('../imgs/images/test')\n",
    "\n",
    "# load list of dog names\n",
    "labels = [item[21:-1] for item in sorted(glob(\"../imgs/images/train/*/\"))]\n",
    "\n",
    "print('Statistics about the Dataset:\\n')\n",
    "print('There are %d total chest deseases.' % len(labels))\n",
    "print('There are %s total chest images.\\n' % len(np.hstack([train_files, test_files])))\n",
    "print('There are %d training chest images.' % len(train_files))\n",
    "# print('There are %d validation dog images.' % len(valid_files))\n",
    "print('There are %d test chest images.'% len(test_files))"
   ]
  },
  {
   "cell_type": "code",
   "execution_count": 5,
   "metadata": {},
   "outputs": [],
   "source": [
    "def path_to_tensor(img_path):\n",
    "    # loads RGB image as PIL.Image.Image type\n",
    "    img = image.load_img(img_path, target_size=(224, 224))\n",
    "    # convert PIL.Image.Image type to 3D tensor with shape (224, 224, 3)\n",
    "    x = image.img_to_array(img)\n",
    "    # convert 3D tensor to 4D tensor with shape (1, 224, 224, 3) and return 4D tensor\n",
    "    return np.expand_dims(x, axis=0)\n",
    "\n",
    "def paths_to_tensor(img_paths):\n",
    "    list_of_tensors = [path_to_tensor(img_path) for img_path in tqdm(img_paths)]\n",
    "    return np.vstack(list_of_tensors)"
   ]
  },
  {
   "cell_type": "code",
   "execution_count": 6,
   "metadata": {},
   "outputs": [
    {
     "name": "stderr",
     "output_type": "stream",
     "text": [
      "100%|██████████| 4032/4032 [01:13<00:00, 54.56it/s]\n",
      "100%|██████████| 967/967 [00:19<00:00, 50.79it/s]\n"
     ]
    }
   ],
   "source": [
    "ImageFile.LOAD_TRUNCATED_IMAGES = True\n",
    "# pre-process the data for Keras\n",
    "train_tensors = paths_to_tensor(train_files).astype('float32')/255\n",
    "test_tensors = paths_to_tensor(test_files).astype('float32')/255"
   ]
  },
  {
   "cell_type": "code",
   "execution_count": 7,
   "metadata": {},
   "outputs": [
    {
     "data": {
      "text/plain": [
       "((4032, 224, 224, 3), (4032, 2))"
      ]
     },
     "execution_count": 7,
     "metadata": {},
     "output_type": "execute_result"
    }
   ],
   "source": [
    "train_tensors.shape, train_targets.shape"
   ]
  },
  {
   "cell_type": "code",
   "execution_count": 8,
   "metadata": {},
   "outputs": [
    {
     "name": "stdout",
     "output_type": "stream",
     "text": [
      "_________________________________________________________________\n",
      "Layer (type)                 Output Shape              Param #   \n",
      "=================================================================\n",
      "conv2d_1 (Conv2D)            (None, 222, 222, 64)      1792      \n",
      "_________________________________________________________________\n",
      "activation_1 (Activation)    (None, 222, 222, 64)      0         \n",
      "_________________________________________________________________\n",
      "max_pooling2d_1 (MaxPooling2 (None, 111, 111, 64)      0         \n",
      "_________________________________________________________________\n",
      "conv2d_2 (Conv2D)            (None, 109, 109, 64)      36928     \n",
      "_________________________________________________________________\n",
      "activation_2 (Activation)    (None, 109, 109, 64)      0         \n",
      "_________________________________________________________________\n",
      "max_pooling2d_2 (MaxPooling2 (None, 54, 54, 64)        0         \n",
      "_________________________________________________________________\n",
      "flatten_1 (Flatten)          (None, 186624)            0         \n",
      "_________________________________________________________________\n",
      "dense_1 (Dense)              (None, 64)                11944000  \n",
      "_________________________________________________________________\n",
      "dense_2 (Dense)              (None, 2)                 130       \n",
      "_________________________________________________________________\n",
      "activation_3 (Activation)    (None, 2)                 0         \n",
      "=================================================================\n",
      "Total params: 11,982,850\n",
      "Trainable params: 11,982,850\n",
      "Non-trainable params: 0\n",
      "_________________________________________________________________\n"
     ]
    }
   ],
   "source": [
    "model = Sequential()\n",
    "model.add( Conv2D(64, (3, 3), input_shape = train_tensors.shape[1:]) )\n",
    "model.add(Activation('relu'))\n",
    "model.add(MaxPooling2D(pool_size=(2, 2)))\n",
    "\n",
    "model.add(Conv2D(64, (3, 3)))\n",
    "model.add(Activation('relu'))\n",
    "model.add(MaxPooling2D(pool_size=(2, 2)))\n",
    "\n",
    "model.add(Flatten())\n",
    "\n",
    "# model.add(GlobalAveragePooling2D(input_shape=(train_tensors.shape[1:])))\n",
    "\n",
    "#---------------------------------------\n",
    "model.add(layers.Dense(64))\n",
    "model.add(layers.Dense(2))\n",
    "model.add(layers.Activation('softmax'))\n",
    "#----------------------------------------\n",
    "\n",
    "# model.add(layers.Dense(256))\n",
    "# model.add(layers.BatchNormalization())\n",
    "# model.add(layers.Activation('relu'))\n",
    "# model.add(layers.Dropout(0.5))\n",
    "\n",
    "# model.add(layers.Dense(2))\n",
    "# model.add(layers.BatchNormalization())\n",
    "# model.add(layers.Activation('softmax'))\n",
    "\n",
    "model.summary()"
   ]
  },
  {
   "cell_type": "markdown",
   "metadata": {},
   "source": [
    "### New model"
   ]
  },
  {
   "cell_type": "code",
   "execution_count": 9,
   "metadata": {},
   "outputs": [
    {
     "name": "stdout",
     "output_type": "stream",
     "text": [
      "Train on 3225 samples, validate on 807 samples\n",
      "Epoch 1/2\n",
      "3225/3225 [==============================] - ETA: 10:53 - loss: 0.7121 - acc: 0.53 - ETA: 9:44 - loss: 4.1131 - acc: 0.5312 - ETA: 9:09 - loss: 5.4138 - acc: 0.520 - ETA: 8:43 - loss: 5.4379 - acc: 0.554 - ETA: 8:47 - loss: 5.8532 - acc: 0.550 - ETA: 8:38 - loss: 6.2135 - acc: 0.541 - ETA: 8:27 - loss: 6.1131 - acc: 0.558 - ETA: 8:27 - loss: 5.9751 - acc: 0.574 - ETA: 8:24 - loss: 6.1461 - acc: 0.569 - ETA: 8:21 - loss: 5.9824 - acc: 0.584 - ETA: 8:32 - loss: 5.8939 - acc: 0.593 - ETA: 8:27 - loss: 5.9037 - acc: 0.596 - ETA: 8:28 - loss: 5.9120 - acc: 0.598 - ETA: 8:41 - loss: 5.9906 - acc: 0.596 - ETA: 8:34 - loss: 6.1256 - acc: 0.589 - ETA: 8:32 - loss: 6.0558 - acc: 0.595 - ETA: 8:23 - loss: 5.9648 - acc: 0.602 - ETA: 8:18 - loss: 6.0509 - acc: 0.599 - ETA: 8:13 - loss: 6.1015 - acc: 0.597 - ETA: 8:05 - loss: 6.0970 - acc: 0.598 - ETA: 8:00 - loss: 6.1645 - acc: 0.595 - ETA: 7:53 - loss: 6.2486 - acc: 0.590 - ETA: 7:50 - loss: 6.2165 - acc: 0.593 - ETA: 7:48 - loss: 6.1871 - acc: 0.596 - ETA: 7:41 - loss: 6.1400 - acc: 0.600 - ETA: 7:37 - loss: 6.1929 - acc: 0.597 - ETA: 7:32 - loss: 6.1861 - acc: 0.598 - ETA: 7:30 - loss: 6.1799 - acc: 0.599 - ETA: 7:24 - loss: 6.2086 - acc: 0.598 - ETA: 7:18 - loss: 6.2355 - acc: 0.596 - ETA: 7:13 - loss: 6.2282 - acc: 0.597 - ETA: 7:07 - loss: 6.1432 - acc: 0.603 - ETA: 7:01 - loss: 6.1544 - acc: 0.603 - ETA: 6:53 - loss: 6.1796 - acc: 0.602 - ETA: 6:46 - loss: 6.1462 - acc: 0.604 - ETA: 6:40 - loss: 6.1424 - acc: 0.605 - ETA: 6:33 - loss: 6.1524 - acc: 0.604 - ETA: 6:27 - loss: 6.1355 - acc: 0.606 - ETA: 6:20 - loss: 6.1580 - acc: 0.605 - ETA: 6:13 - loss: 6.1669 - acc: 0.604 - ETA: 6:07 - loss: 6.1753 - acc: 0.604 - ETA: 6:00 - loss: 6.1833 - acc: 0.604 - ETA: 5:53 - loss: 6.1793 - acc: 0.604 - ETA: 5:48 - loss: 6.1528 - acc: 0.606 - ETA: 5:41 - loss: 6.1941 - acc: 0.604 - ETA: 5:34 - loss: 6.2120 - acc: 0.603 - ETA: 5:29 - loss: 6.1651 - acc: 0.606 - ETA: 5:23 - loss: 6.1618 - acc: 0.606 - ETA: 5:17 - loss: 6.1997 - acc: 0.604 - ETA: 5:12 - loss: 6.2059 - acc: 0.604 - ETA: 5:08 - loss: 6.1628 - acc: 0.607 - ETA: 5:03 - loss: 6.1310 - acc: 0.609 - ETA: 4:58 - loss: 6.1571 - acc: 0.607 - ETA: 4:52 - loss: 6.1358 - acc: 0.609 - ETA: 4:46 - loss: 6.1518 - acc: 0.608 - ETA: 4:40 - loss: 6.1761 - acc: 0.607 - ETA: 4:33 - loss: 6.1732 - acc: 0.607 - ETA: 4:27 - loss: 6.1704 - acc: 0.607 - ETA: 4:21 - loss: 6.1762 - acc: 0.607 - ETA: 4:15 - loss: 6.1568 - acc: 0.608 - ETA: 4:09 - loss: 6.2283 - acc: 0.604 - ETA: 4:02 - loss: 6.2167 - acc: 0.605 - ETA: 3:56 - loss: 6.1896 - acc: 0.607 - ETA: 3:49 - loss: 6.2103 - acc: 0.606 - ETA: 3:43 - loss: 6.1918 - acc: 0.607 - ETA: 3:36 - loss: 6.2119 - acc: 0.606 - ETA: 3:30 - loss: 6.2313 - acc: 0.604 - ETA: 3:23 - loss: 6.2133 - acc: 0.606 - ETA: 3:18 - loss: 6.2177 - acc: 0.606 - ETA: 3:11 - loss: 6.2219 - acc: 0.605 - ETA: 3:05 - loss: 6.2048 - acc: 0.607 - ETA: 2:59 - loss: 6.1882 - acc: 0.608 - ETA: 2:53 - loss: 6.1858 - acc: 0.608 - ETA: 2:47 - loss: 6.1902 - acc: 0.608 - ETA: 2:41 - loss: 6.1745 - acc: 0.609 - ETA: 2:35 - loss: 6.1921 - acc: 0.608 - ETA: 2:29 - loss: 6.2027 - acc: 0.607 - ETA: 2:23 - loss: 6.2324 - acc: 0.605 - ETA: 2:16 - loss: 6.2296 - acc: 0.606 - ETA: 2:10 - loss: 6.2394 - acc: 0.605 - ETA: 2:04 - loss: 6.2366 - acc: 0.605 - ETA: 1:58 - loss: 6.2338 - acc: 0.605 - ETA: 1:52 - loss: 6.2131 - acc: 0.607 - ETA: 1:45 - loss: 6.2226 - acc: 0.606 - ETA: 1:39 - loss: 6.2201 - acc: 0.607 - ETA: 1:33 - loss: 6.2235 - acc: 0.606 - ETA: 1:27 - loss: 6.2498 - acc: 0.605 - ETA: 1:20 - loss: 6.2471 - acc: 0.605 - ETA: 1:14 - loss: 6.2557 - acc: 0.605 - ETA: 1:08 - loss: 6.2697 - acc: 0.604 - ETA: 1:02 - loss: 6.2559 - acc: 0.605 - ETA: 55s - loss: 6.2750 - acc: 0.603 - ETA: 49s - loss: 6.2991 - acc: 0.60 - ETA: 42s - loss: 6.2800 - acc: 0.60 - ETA: 36s - loss: 6.2509 - acc: 0.60 - ETA: 30s - loss: 6.2379 - acc: 0.60 - ETA: 23s - loss: 6.2562 - acc: 0.60 - ETA: 17s - loss: 6.2640 - acc: 0.60 - ETA: 11s - loss: 6.2817 - acc: 0.60 - ETA: 4s - loss: 6.2840 - acc: 0.6038 - 692s 214ms/step - loss: 6.2651 - acc: 0.6050 - val_loss: 6.5750 - val_acc: 0.5898\n",
      "Epoch 2/2\n"
     ]
    },
    {
     "name": "stdout",
     "output_type": "stream",
     "text": [
      "3225/3225 [==============================] - ETA: 10:28 - loss: 7.5142 - acc: 0.53 - ETA: 10:44 - loss: 6.5123 - acc: 0.59 - ETA: 10:13 - loss: 6.3453 - acc: 0.60 - ETA: 10:34 - loss: 6.5123 - acc: 0.59 - ETA: 10:19 - loss: 6.7127 - acc: 0.58 - ETA: 10:01 - loss: 6.5123 - acc: 0.59 - ETA: 10:06 - loss: 6.2976 - acc: 0.60 - ETA: 9:52 - loss: 6.2618 - acc: 0.6094 - ETA: 9:54 - loss: 6.2340 - acc: 0.611 - ETA: 9:47 - loss: 6.2117 - acc: 0.612 - ETA: 9:44 - loss: 6.3757 - acc: 0.602 - ETA: 9:46 - loss: 6.3453 - acc: 0.604 - ETA: 9:34 - loss: 6.3196 - acc: 0.605 - ETA: 9:30 - loss: 6.3334 - acc: 0.604 - ETA: 9:17 - loss: 6.1783 - acc: 0.614 - ETA: 9:07 - loss: 6.2618 - acc: 0.609 - ETA: 9:02 - loss: 6.1881 - acc: 0.614 - ETA: 8:54 - loss: 6.1227 - acc: 0.618 - ETA: 8:50 - loss: 6.2486 - acc: 0.610 - ETA: 8:40 - loss: 6.2618 - acc: 0.609 - ETA: 8:32 - loss: 6.2499 - acc: 0.610 - ETA: 8:25 - loss: 6.3074 - acc: 0.606 - ETA: 8:19 - loss: 6.2509 - acc: 0.610 - ETA: 8:13 - loss: 6.2827 - acc: 0.608 - ETA: 8:05 - loss: 6.2919 - acc: 0.607 - ETA: 7:57 - loss: 6.3581 - acc: 0.603 - ETA: 7:52 - loss: 6.4195 - acc: 0.599 - ETA: 7:44 - loss: 6.3334 - acc: 0.604 - ETA: 7:39 - loss: 6.3050 - acc: 0.606 - ETA: 7:32 - loss: 6.2618 - acc: 0.609 - ETA: 7:25 - loss: 6.2537 - acc: 0.609 - ETA: 7:20 - loss: 6.3088 - acc: 0.606 - ETA: 7:12 - loss: 6.2694 - acc: 0.608 - ETA: 7:06 - loss: 6.2765 - acc: 0.608 - ETA: 6:58 - loss: 6.2976 - acc: 0.607 - ETA: 6:51 - loss: 6.2896 - acc: 0.607 - ETA: 6:46 - loss: 6.2957 - acc: 0.607 - ETA: 6:40 - loss: 6.3014 - acc: 0.606 - ETA: 6:36 - loss: 6.3325 - acc: 0.605 - ETA: 6:30 - loss: 6.3745 - acc: 0.602 - ETA: 6:23 - loss: 6.3901 - acc: 0.601 - ETA: 6:16 - loss: 6.3692 - acc: 0.602 - ETA: 6:09 - loss: 6.3841 - acc: 0.601 - ETA: 6:04 - loss: 6.3643 - acc: 0.603 - ETA: 5:58 - loss: 6.4010 - acc: 0.600 - ETA: 5:54 - loss: 6.3925 - acc: 0.601 - ETA: 5:47 - loss: 6.4164 - acc: 0.599 - ETA: 5:40 - loss: 6.3766 - acc: 0.602 - ETA: 5:35 - loss: 6.3794 - acc: 0.602 - ETA: 5:29 - loss: 6.3420 - acc: 0.604 - ETA: 5:25 - loss: 6.3158 - acc: 0.606 - ETA: 5:18 - loss: 6.3100 - acc: 0.606 - ETA: 5:12 - loss: 6.3516 - acc: 0.603 - ETA: 5:05 - loss: 6.3639 - acc: 0.603 - ETA: 4:58 - loss: 6.3666 - acc: 0.602 - ETA: 4:52 - loss: 6.3334 - acc: 0.604 - ETA: 4:45 - loss: 6.3453 - acc: 0.604 - ETA: 4:39 - loss: 6.2877 - acc: 0.607 - ETA: 4:32 - loss: 6.2576 - acc: 0.609 - ETA: 4:28 - loss: 6.2702 - acc: 0.608 - ETA: 4:22 - loss: 6.2495 - acc: 0.610 - ETA: 4:16 - loss: 6.2780 - acc: 0.608 - ETA: 4:09 - loss: 6.3135 - acc: 0.606 - ETA: 4:03 - loss: 6.2931 - acc: 0.607 - ETA: 3:56 - loss: 6.3042 - acc: 0.606 - ETA: 3:49 - loss: 6.2998 - acc: 0.607 - ETA: 3:42 - loss: 6.3029 - acc: 0.606 - ETA: 3:35 - loss: 6.2765 - acc: 0.608 - ETA: 3:28 - loss: 6.2582 - acc: 0.609 - ETA: 3:22 - loss: 6.2690 - acc: 0.608 - ETA: 3:15 - loss: 6.2724 - acc: 0.608 - ETA: 3:08 - loss: 6.2549 - acc: 0.609 - ETA: 3:01 - loss: 6.2378 - acc: 0.610 - ETA: 2:55 - loss: 6.2212 - acc: 0.611 - ETA: 2:48 - loss: 6.2384 - acc: 0.610 - ETA: 2:41 - loss: 6.2552 - acc: 0.609 - ETA: 2:35 - loss: 6.2716 - acc: 0.608 - ETA: 2:28 - loss: 6.2490 - acc: 0.610 - ETA: 2:22 - loss: 6.2460 - acc: 0.610 - ETA: 2:15 - loss: 6.2681 - acc: 0.609 - ETA: 2:08 - loss: 6.2773 - acc: 0.608 - ETA: 2:02 - loss: 6.2740 - acc: 0.608 - ETA: 1:55 - loss: 6.2648 - acc: 0.609 - ETA: 1:48 - loss: 6.2678 - acc: 0.609 - ETA: 1:42 - loss: 6.2707 - acc: 0.608 - ETA: 1:35 - loss: 6.3026 - acc: 0.606 - ETA: 1:29 - loss: 6.2877 - acc: 0.607 - ETA: 1:22 - loss: 6.3017 - acc: 0.606 - ETA: 1:16 - loss: 6.2984 - acc: 0.607 - ETA: 1:09 - loss: 6.3230 - acc: 0.605 - ETA: 1:03 - loss: 6.3526 - acc: 0.603 - ETA: 56s - loss: 6.3217 - acc: 0.605 - ETA: 50s - loss: 6.3238 - acc: 0.60 - ETA: 43s - loss: 6.3364 - acc: 0.60 - ETA: 37s - loss: 6.3172 - acc: 0.60 - ETA: 30s - loss: 6.3349 - acc: 0.60 - ETA: 24s - loss: 6.3264 - acc: 0.60 - ETA: 17s - loss: 6.3129 - acc: 0.60 - ETA: 11s - loss: 6.3301 - acc: 0.60 - ETA: 5s - loss: 6.3520 - acc: 0.6038 - 697s 216ms/step - loss: 6.3425 - acc: 0.6043 - val_loss: 6.5750 - val_acc: 0.5898\n"
     ]
    }
   ],
   "source": [
    "model.compile(loss='binary_crossentropy', optimizer = 'adam', metrics=['accuracy'])\n",
    "History = model.fit(train_tensors, train_targets, validation_split = 0.2,\n",
    "          epochs=2, batch_size=32, verbose=1, shuffle=True) #callbacks=[tensorboard]"
   ]
  },
  {
   "cell_type": "code",
   "execution_count": 10,
   "metadata": {},
   "outputs": [
    {
     "name": "stderr",
     "output_type": "stream",
     "text": [
      "100%|██████████| 967/967 [01:22<00:00, 11.73it/s]\n"
     ]
    },
    {
     "name": "stdout",
     "output_type": "stream",
     "text": [
      "Test accuracy: 34.0228%\n"
     ]
    }
   ],
   "source": [
    "### Calculate classification accuracy on the test dataset.\n",
    "\n",
    "# get index of predicted dog breed for each image in test set\n",
    "predictions = [np.argmax(model.predict(np.expand_dims(feature, axis=0))) for feature in tqdm(test_tensors)]\n",
    "\n",
    "# report test accuracy\n",
    "test_accuracy = 100*np.sum(np.array(predictions)==np.argmax(test_targets, axis=1))/len(predictions)\n",
    "print('Test accuracy: %.4f%%' % test_accuracy)"
   ]
  },
  {
   "cell_type": "code",
   "execution_count": 11,
   "metadata": {},
   "outputs": [
    {
     "data": {
      "image/png": "[encoded data removed]",
      "text/plain": [
       "<Figure size 720x720 with 2 Axes>"
      ]
     },
     "metadata": {
      "needs_background": "light"
     },
     "output_type": "display_data"
    }
   ],
   "source": [
    "plt.figure(1, figsize=(10,10))  \n",
    "\n",
    "# summarize history for accuracy  \n",
    "\n",
    "plt.subplot(211)  \n",
    "plt.plot(History.history['acc'])  \n",
    "plt.plot(History.history['val_acc'])  \n",
    "plt.title('Model Accuracy')  \n",
    "plt.ylabel('Accuracy')  \n",
    "plt.xlabel('Epoch')  \n",
    "plt.legend(['train', 'val'], loc='upper left')  \n",
    "\n",
    "# summarize history for loss  \n",
    "\n",
    "plt.subplot(212)  \n",
    "plt.plot(History.history['loss'])  \n",
    "plt.plot(History.history['val_loss'])  \n",
    "plt.title('Model Loss')  \n",
    "plt.ylabel('Loss')  \n",
    "plt.xlabel('Epoch')  \n",
    "plt.legend(['train', 'val'], loc='upper left')  \n",
    "plt.show()"
   ]
  },
  {
   "cell_type": "code",
   "execution_count": 12,
   "metadata": {},
   "outputs": [
    {
     "data": {
      "text/plain": [
       "{'val_loss': [6.574980439749792, 6.574980439749792],\n",
       " 'val_acc': [0.5898389096892308, 0.5898389096892308],\n",
       " 'loss': [6.265072364511416, 6.34250707448915],\n",
       " 'acc': [0.6049612402361493, 0.604341085326764]}"
      ]
     },
     "execution_count": 12,
     "metadata": {},
     "output_type": "execute_result"
    }
   ],
   "source": [
    "History.history"
   ]
  },
  {
   "cell_type": "code",
   "execution_count": 25,
   "metadata": {},
   "outputs": [
    {
     "name": "stderr",
     "output_type": "stream",
     "text": [
      "C:\\Users\\micka\\Anaconda3\\envs\\tensorflow-sessions\\lib\\site-packages\\sklearn\\metrics\\classification.py:1143: UndefinedMetricWarning: Precision and F-score are ill-defined and being set to 0.0 in labels with no predicted samples.\n",
      "  'precision', 'predicted', average, warn_for)\n"
     ]
    },
    {
     "name": "stdout",
     "output_type": "stream",
     "text": [
      "              precision    recall  f1-score   support\n",
      "\n",
      "     Finding       0.00      0.00      0.00       638\n",
      "  No Finding       0.34      1.00      0.51       329\n",
      "\n",
      "   micro avg       0.34      0.34      0.34       967\n",
      "   macro avg       0.17      0.50      0.25       967\n",
      "weighted avg       0.12      0.34      0.17       967\n",
      "\n"
     ]
    }
   ],
   "source": [
    "# Classification Report\n",
    "y_true = np.argmax(test_targets, axis=1)\n",
    "print(classification_report(y_true, predictions, target_names=labels))"
   ]
  },
  {
   "cell_type": "code",
   "execution_count": 23,
   "metadata": {},
   "outputs": [
    {
     "data": {
      "text/plain": [
       "['Finding', 'No Finding']"
      ]
     },
     "execution_count": 23,
     "metadata": {},
     "output_type": "execute_result"
    }
   ],
   "source": [
    "test_targets"
   ]
  }
 ],
 "metadata": {
  "kernelspec": {
   "display_name": "Python 3",
   "language": "python",
   "name": "python3"
  },
  "language_info": {
   "codemirror_mode": {
    "name": "ipython",
    "version": 3
   },
   "file_extension": ".py",
   "mimetype": "text/x-python",
   "name": "python",
   "nbconvert_exporter": "python",
   "pygments_lexer": "ipython3",
   "version": "3.6.7"
  }
 },
 "nbformat": 4,
 "nbformat_minor": 2
}
