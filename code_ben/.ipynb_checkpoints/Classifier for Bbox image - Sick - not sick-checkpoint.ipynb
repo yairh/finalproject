{
 "cells": [
  {
   "cell_type": "code",
   "execution_count": 38,
   "metadata": {},
   "outputs": [
    {
     "ename": "ModuleNotFoundError",
     "evalue": "No module named 'opencv'",
     "output_type": "error",
     "traceback": [
      "\u001b[1;31m---------------------------------------------------------------------------\u001b[0m",
      "\u001b[1;31mModuleNotFoundError\u001b[0m                       Traceback (most recent call last)",
      "\u001b[1;32m<ipython-input-38-179aa0908149>\u001b[0m in \u001b[0;36m<module>\u001b[1;34m()\u001b[0m\n\u001b[0;32m      2\u001b[0m \u001b[1;32mimport\u001b[0m \u001b[0mpandas\u001b[0m \u001b[1;32mas\u001b[0m \u001b[0mpd\u001b[0m\u001b[1;33m\u001b[0m\u001b[0m\n\u001b[0;32m      3\u001b[0m \u001b[1;32mimport\u001b[0m \u001b[0mshutil\u001b[0m\u001b[1;33m\u001b[0m\u001b[0m\n\u001b[1;32m----> 4\u001b[1;33m \u001b[1;32mimport\u001b[0m \u001b[0mopencv\u001b[0m\u001b[1;33m\u001b[0m\u001b[0m\n\u001b[0m",
      "\u001b[1;31mModuleNotFoundError\u001b[0m: No module named 'opencv'"
     ]
    }
   ],
   "source": [
    "import os\n",
    "import pandas as pd\n",
    "import shutil\n",
    "import opencv"
   ]
  },
  {
   "cell_type": "code",
   "execution_count": 3,
   "metadata": {},
   "outputs": [],
   "source": [
    "PATH = r'D:\\Documents\\ITC\\Projects\\Data Science\\data'\n",
    "file = 'BBox_List_2017.csv'"
   ]
  },
  {
   "cell_type": "markdown",
   "metadata": {},
   "source": [
    "# Data extraction"
   ]
  },
  {
   "cell_type": "code",
   "execution_count": 4,
   "metadata": {},
   "outputs": [
    {
     "data": {
      "text/html": [
       "<div>\n",
       "<style scoped>\n",
       "    .dataframe tbody tr th:only-of-type {\n",
       "        vertical-align: middle;\n",
       "    }\n",
       "\n",
       "    .dataframe tbody tr th {\n",
       "        vertical-align: top;\n",
       "    }\n",
       "\n",
       "    .dataframe thead th {\n",
       "        text-align: right;\n",
       "    }\n",
       "</style>\n",
       "<table border=\"1\" class=\"dataframe\">\n",
       "  <thead>\n",
       "    <tr style=\"text-align: right;\">\n",
       "      <th></th>\n",
       "      <th>Image Index</th>\n",
       "      <th>Finding Label</th>\n",
       "      <th>Bbox [x</th>\n",
       "      <th>y</th>\n",
       "      <th>w</th>\n",
       "      <th>h]</th>\n",
       "    </tr>\n",
       "  </thead>\n",
       "  <tbody>\n",
       "    <tr>\n",
       "      <th>0</th>\n",
       "      <td>00013118_008.png</td>\n",
       "      <td>Atelectasis</td>\n",
       "      <td>225.084746</td>\n",
       "      <td>547.019217</td>\n",
       "      <td>86.779661</td>\n",
       "      <td>79.186441</td>\n",
       "    </tr>\n",
       "    <tr>\n",
       "      <th>1</th>\n",
       "      <td>00014716_007.png</td>\n",
       "      <td>Atelectasis</td>\n",
       "      <td>686.101695</td>\n",
       "      <td>131.543498</td>\n",
       "      <td>185.491525</td>\n",
       "      <td>313.491525</td>\n",
       "    </tr>\n",
       "    <tr>\n",
       "      <th>2</th>\n",
       "      <td>00029817_009.png</td>\n",
       "      <td>Atelectasis</td>\n",
       "      <td>221.830508</td>\n",
       "      <td>317.053115</td>\n",
       "      <td>155.118644</td>\n",
       "      <td>216.949153</td>\n",
       "    </tr>\n",
       "    <tr>\n",
       "      <th>3</th>\n",
       "      <td>00014687_001.png</td>\n",
       "      <td>Atelectasis</td>\n",
       "      <td>726.237288</td>\n",
       "      <td>494.951420</td>\n",
       "      <td>141.016949</td>\n",
       "      <td>55.322034</td>\n",
       "    </tr>\n",
       "    <tr>\n",
       "      <th>4</th>\n",
       "      <td>00017877_001.png</td>\n",
       "      <td>Atelectasis</td>\n",
       "      <td>660.067797</td>\n",
       "      <td>569.780787</td>\n",
       "      <td>200.677966</td>\n",
       "      <td>78.101695</td>\n",
       "    </tr>\n",
       "  </tbody>\n",
       "</table>\n",
       "</div>"
      ],
      "text/plain": [
       "        Image Index Finding Label     Bbox [x           y           w  \\\n",
       "0  00013118_008.png   Atelectasis  225.084746  547.019217   86.779661   \n",
       "1  00014716_007.png   Atelectasis  686.101695  131.543498  185.491525   \n",
       "2  00029817_009.png   Atelectasis  221.830508  317.053115  155.118644   \n",
       "3  00014687_001.png   Atelectasis  726.237288  494.951420  141.016949   \n",
       "4  00017877_001.png   Atelectasis  660.067797  569.780787  200.677966   \n",
       "\n",
       "           h]  \n",
       "0   79.186441  \n",
       "1  313.491525  \n",
       "2  216.949153  \n",
       "3   55.322034  \n",
       "4   78.101695  "
      ]
     },
     "execution_count": 4,
     "metadata": {},
     "output_type": "execute_result"
    }
   ],
   "source": [
    "infile = os.path.join(PATH,file)\n",
    "bbox_data = pd.read_csv(infile)\n",
    "bbox_data = bbox_data.drop(['Unnamed: 6', 'Unnamed: 7', 'Unnamed: 8'], axis=1)\n",
    "bbox_data.head()"
   ]
  },
  {
   "cell_type": "code",
   "execution_count": 5,
   "metadata": {},
   "outputs": [
    {
     "data": {
      "text/plain": [
       "Atelectasis     0.182927\n",
       "Effusion        0.155488\n",
       "Cardiomegaly    0.148374\n",
       "Infiltrate      0.125000\n",
       "Pneumonia       0.121951\n",
       "Pneumothorax    0.099593\n",
       "Mass            0.086382\n",
       "Nodule          0.080285\n",
       "Name: Finding Label, dtype: float64"
      ]
     },
     "execution_count": 5,
     "metadata": {},
     "output_type": "execute_result"
    }
   ],
   "source": [
    "bbox_data['Finding Label'].value_counts(normalize = True)"
   ]
  },
  {
   "cell_type": "markdown",
   "metadata": {},
   "source": [
    "# Disease selection"
   ]
  },
  {
   "cell_type": "code",
   "execution_count": 6,
   "metadata": {},
   "outputs": [],
   "source": [
    "disease = 'Atelectasis'\n",
    "full_file = 'Data_Entry_2017.csv'\n",
    "\n",
    "infile = os.path.join(PATH, full_file)\n",
    "full_data = pd.read_csv(infile)\n",
    "\n",
    "bbox_data = bbox_data[bbox_data['Finding Label'] == disease]\n",
    "full_data = full_data[full_data['Finding Labels'] == 'No Finding']\n"
   ]
  },
  {
   "cell_type": "markdown",
   "metadata": {},
   "source": [
    "# Image selection - Balanced"
   ]
  },
  {
   "cell_type": "code",
   "execution_count": 34,
   "metadata": {},
   "outputs": [],
   "source": [
    "# PATH = r'D:\\Documents\\ITC\\Projects\\Data Science\\images\\images1'\n",
    "PATH = r'D:\\Documents\\ITC\\Projects\\Data Science\\images\\disease_and_no_finding_bu'\n",
    "dest = r'D:\\Documents\\ITC\\Projects\\Data Science\\images\\disease_and_no_finding'"
   ]
  },
  {
   "cell_type": "code",
   "execution_count": 35,
   "metadata": {},
   "outputs": [
    {
     "data": {
      "text/html": [
       "<div>\n",
       "<style scoped>\n",
       "    .dataframe tbody tr th:only-of-type {\n",
       "        vertical-align: middle;\n",
       "    }\n",
       "\n",
       "    .dataframe tbody tr th {\n",
       "        vertical-align: top;\n",
       "    }\n",
       "\n",
       "    .dataframe thead th {\n",
       "        text-align: right;\n",
       "    }\n",
       "</style>\n",
       "<table border=\"1\" class=\"dataframe\">\n",
       "  <thead>\n",
       "    <tr style=\"text-align: right;\">\n",
       "      <th></th>\n",
       "      <th>Image Index</th>\n",
       "      <th>Finding Label</th>\n",
       "      <th>x</th>\n",
       "      <th>y</th>\n",
       "      <th>w</th>\n",
       "      <th>h</th>\n",
       "    </tr>\n",
       "  </thead>\n",
       "  <tbody>\n",
       "    <tr>\n",
       "      <th>0</th>\n",
       "      <td>00000072_000.png</td>\n",
       "      <td>Atelectasis</td>\n",
       "      <td>356.503704</td>\n",
       "      <td>567.805291</td>\n",
       "      <td>127.864550</td>\n",
       "      <td>82.353439</td>\n",
       "    </tr>\n",
       "    <tr>\n",
       "      <th>1</th>\n",
       "      <td>00000002_000.png</td>\n",
       "      <td>No Finding</td>\n",
       "      <td>356.503704</td>\n",
       "      <td>567.805291</td>\n",
       "      <td>127.864550</td>\n",
       "      <td>82.353439</td>\n",
       "    </tr>\n",
       "    <tr>\n",
       "      <th>2</th>\n",
       "      <td>00000147_001.png</td>\n",
       "      <td>Atelectasis</td>\n",
       "      <td>617.650794</td>\n",
       "      <td>599.229630</td>\n",
       "      <td>100.774603</td>\n",
       "      <td>179.877249</td>\n",
       "    </tr>\n",
       "    <tr>\n",
       "      <th>3</th>\n",
       "      <td>00000002_000.png</td>\n",
       "      <td>No Finding</td>\n",
       "      <td>617.650794</td>\n",
       "      <td>599.229630</td>\n",
       "      <td>100.774603</td>\n",
       "      <td>179.877249</td>\n",
       "    </tr>\n",
       "    <tr>\n",
       "      <th>4</th>\n",
       "      <td>00000149_006.png</td>\n",
       "      <td>Atelectasis</td>\n",
       "      <td>603.661017</td>\n",
       "      <td>460.239556</td>\n",
       "      <td>249.491525</td>\n",
       "      <td>90.033898</td>\n",
       "    </tr>\n",
       "  </tbody>\n",
       "</table>\n",
       "</div>"
      ],
      "text/plain": [
       "        Image Index Finding Label           x           y           w  \\\n",
       "0  00000072_000.png   Atelectasis  356.503704  567.805291  127.864550   \n",
       "1  00000002_000.png    No Finding  356.503704  567.805291  127.864550   \n",
       "2  00000147_001.png   Atelectasis  617.650794  599.229630  100.774603   \n",
       "3  00000002_000.png    No Finding  617.650794  599.229630  100.774603   \n",
       "4  00000149_006.png   Atelectasis  603.661017  460.239556  249.491525   \n",
       "\n",
       "            h  \n",
       "0   82.353439  \n",
       "1   82.353439  \n",
       "2  179.877249  \n",
       "3  179.877249  \n",
       "4   90.033898  "
      ]
     },
     "execution_count": 35,
     "metadata": {},
     "output_type": "execute_result"
    }
   ],
   "source": [
    "df = pd.DataFrame(columns=['Image Index', 'Finding Label', 'x', 'y', 'w', 'h'])\n",
    "\n",
    "for filename in os.listdir(PATH):\n",
    "    if filename in bbox_data['Image Index'].values:\n",
    "        shutil.move(os.path.join(PATH,filename), dest)\n",
    "        x = bbox_data[bbox_data['Image Index'] == filename]['Bbox [x'].values[0]\n",
    "        y = bbox_data[bbox_data['Image Index'] == filename]['y'].values[0]\n",
    "        w = bbox_data[bbox_data['Image Index'] == filename]['w'].values[0]\n",
    "        h = bbox_data[bbox_data['Image Index'] == filename]['h]'].values[0]\n",
    "        \n",
    "        df = df.append({'Image Index': filename, 'Finding Label': disease,\n",
    "                        'x':x ,\n",
    "                        'y': y ,\n",
    "                        'w': w,\n",
    "                        'h': h }, ignore_index = True)\n",
    "        for filename in os.listdir(PATH):\n",
    "            if filename in full_data['Image Index'].values:\n",
    "                shutil.copy(os.path.join(PATH, filename), dest)\n",
    "#                 shutil.move(os.path.join(PATH, filename), dest)\n",
    "                df = df.append({'Image Index': filename, 'Finding Label': 'No Finding', 'x':x ,\n",
    "                        'y': y ,\n",
    "                        'w': w,\n",
    "                        'h': h }, ignore_index = True)\n",
    "                break\n",
    "            else:\n",
    "                continue\n",
    "    else:\n",
    "        continue\n",
    "\n",
    "df.head()"
   ]
  },
  {
   "cell_type": "code",
   "execution_count": 36,
   "metadata": {},
   "outputs": [
    {
     "data": {
      "text/plain": [
       "No Finding     0.5\n",
       "Atelectasis    0.5\n",
       "Name: Finding Label, dtype: float64"
      ]
     },
     "execution_count": 36,
     "metadata": {},
     "output_type": "execute_result"
    }
   ],
   "source": [
    "df['Finding Label'].value_counts(normalize=True)"
   ]
  },
  {
   "cell_type": "markdown",
   "metadata": {},
   "source": [
    "# Cropping the images"
   ]
  },
  {
   "cell_type": "code",
   "execution_count": 37,
   "metadata": {},
   "outputs": [],
   "source": [
    "PATH = r'D:\\Documents\\ITC\\Projects\\Data Science\\images\\disease_and_no_finding'"
   ]
  },
  {
   "cell_type": "code",
   "execution_count": null,
   "metadata": {},
   "outputs": [],
   "source": [
    "img = "
   ]
  },
  {
   "cell_type": "code",
   "execution_count": null,
   "metadata": {},
   "outputs": [],
   "source": []
  },
  {
   "cell_type": "code",
   "execution_count": null,
   "metadata": {},
   "outputs": [],
   "source": [
    "\n"
   ]
  }
 ],
 "metadata": {
  "kernelspec": {
   "display_name": "Python 3",
   "language": "python",
   "name": "python3"
  },
  "language_info": {
   "codemirror_mode": {
    "name": "ipython",
    "version": 3
   },
   "file_extension": ".py",
   "mimetype": "text/x-python",
   "name": "python",
   "nbconvert_exporter": "python",
   "pygments_lexer": "ipython3",
   "version": "3.7.0"
  }
 },
 "nbformat": 4,
 "nbformat_minor": 2
}
