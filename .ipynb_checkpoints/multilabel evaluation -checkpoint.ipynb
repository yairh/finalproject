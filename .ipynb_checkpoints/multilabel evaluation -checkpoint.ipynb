{
 "cells": [
  {
   "cell_type": "code",
   "execution_count": 2,
   "metadata": {
    "ExecuteTime": {
     "end_time": "2019-01-29T14:14:41.128914Z",
     "start_time": "2019-01-29T14:14:41.120494Z"
    }
   },
   "outputs": [],
   "source": [
    "from class_dataset import ChestDataset\n",
    "import pandas as pd\n",
    "from keras.layers import Dense, Activation, Conv2D, MaxPool2D, Flatten, BatchNormalization, Dropout\n",
    "from keras.preprocessing.image import ImageDataGenerator\n",
    "from keras import applications\n",
    "from keras.applications import DenseNet121\n",
    "from keras import models\n",
    "import matplotlib.pyplot as plt\n",
    "from sklearn.metrics import classification_report,roc_curve,auc,accuracy_score\n",
    "import os \n",
    "from glob import glob"
   ]
  },
  {
   "cell_type": "code",
   "execution_count": null,
   "metadata": {},
   "outputs": [],
   "source": [
    "csvfile = 'data_kaggle/Data_Entry_2017.csv'\n",
    "df = pd.read_csv(csvfile)\n",
    "\n",
    "data_dir = '../image/images/'\n",
    "df_uni = ChestDataset(data_dir,df[~df['Finding Labels']]).reader\n",
    "df_uni = df_uni[df_uni.exists == True]\n",
    "\n",
    "train_list_file = 'Final/dense'\n",
    "train_list = \n",
    "\n",
    "\n",
    "labels = set(dataset.labels)\n",
    "print('Statistics about the Dataset:\\n')\n",
    "print('There are %d total chest deseases.' % len(set(dataset.labels)))\n",
    "print('There are %s total chest images.\\n' % np.sum(dataset.exists))\n",
    "print('There are %d training chest images.' % np.sum(train_dt.exists))\n",
    "# print('There are %d validation dog images.' % len(valid_files))\n",
    "print('There are %d test chest images.'% np.sum(test_dt.exists))\n",
    "for lab in labels:\n",
    "    print('# of %s: %.3f%%'%(lab,100*dataset.labels.count(lab)/len(dataset.labels)))"
   ]
  }
 ],
 "metadata": {
  "kernelspec": {
   "display_name": "TF",
   "language": "python",
   "name": "final"
  },
  "toc": {
   "base_numbering": 1,
   "nav_menu": {},
   "number_sections": true,
   "sideBar": true,
   "skip_h1_title": false,
   "title_cell": "Table of Contents",
   "title_sidebar": "Contents",
   "toc_cell": false,
   "toc_position": {},
   "toc_section_display": true,
   "toc_window_display": false
  },
  "varInspector": {
   "cols": {
    "lenName": 16,
    "lenType": 16,
    "lenVar": 40
   },
   "kernels_config": {
    "python": {
     "delete_cmd_postfix": "",
     "delete_cmd_prefix": "del ",
     "library": "var_list.py",
     "varRefreshCmd": "print(var_dic_list())"
    },
    "r": {
     "delete_cmd_postfix": ") ",
     "delete_cmd_prefix": "rm(",
     "library": "var_list.r",
     "varRefreshCmd": "cat(var_dic_list()) "
    }
   },
   "types_to_exclude": [
    "module",
    "function",
    "builtin_function_or_method",
    "instance",
    "_Feature"
   ],
   "window_display": false
  }
 },
 "nbformat": 4,
 "nbformat_minor": 2
}
