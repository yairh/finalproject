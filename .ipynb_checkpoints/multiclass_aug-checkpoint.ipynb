{
 "cells": [
  {
   "cell_type": "code",
   "execution_count": 261,
   "metadata": {
    "ExecuteTime": {
     "end_time": "2019-02-05T13:24:36.158898Z",
     "start_time": "2019-02-05T13:24:36.146811Z"
    }
   },
   "outputs": [],
   "source": [
    "from class_dataset import ChestDataset\n",
    "import pandas as pd\n",
    "from keras.callbacks import TensorBoard, ModelCheckpoint\n",
    "from keras.layers import Dense, Activation, Conv2D, MaxPool2D, Flatten, BatchNormalization, Dropout\n",
    "from keras.preprocessing.image import ImageDataGenerator\n",
    "from keras import applications\n",
    "from keras.applications import DenseNet121\n",
    "from keras import models\n",
    "from keras import backend as K\n",
    "from tensorflow.python.client import device_lib\n",
    "import numpy as np\n",
    "from sklearn.utils import class_weight\n",
    "import matplotlib.pyplot as plt\n",
    "# matplotlib.use('Agg')\n",
    "from keras.optimizers import Adam\n",
    "from keras.utils.np_utils import to_categorical\n",
    "import os\n",
    "from sklearn.preprocessing import LabelBinarizer,OneHotEncoder,MultiLabelBinarizer\n",
    "from itertools import chain\n",
    "from collections import Counter\n",
    "from glob import glob\n",
    "import tensorflow as tf\n",
    "from random import shuffle\n",
    "import keras\n",
    "import cv2\n",
    "from scipy import ndimage"
   ]
  },
  {
   "cell_type": "code",
   "execution_count": 105,
   "metadata": {
    "ExecuteTime": {
     "end_time": "2019-02-05T13:03:07.191663Z",
     "start_time": "2019-02-05T13:03:07.185233Z"
    }
   },
   "outputs": [],
   "source": [
    "# print(device_lib.list_local_devices())\n",
    "# print(K.tensorflow_backend._get_available_gpus())\n",
    "# os.system('sudo chown -R ds:ds /data')\n",
    "# os.mkdir('output')"
   ]
  },
  {
   "cell_type": "code",
   "execution_count": 113,
   "metadata": {
    "ExecuteTime": {
     "end_time": "2019-02-05T13:03:44.755675Z",
     "start_time": "2019-02-05T13:03:42.938611Z"
    }
   },
   "outputs": [],
   "source": [
    "# CHOOSE now your model name \n",
    "model_name = 'densechest_multiclass'\n",
    "\n",
    "csvfile = 'data_kaggle/Data_Entry_2017.csv'\n",
    "df = pd.read_csv(csvfile)\n",
    "\n",
    "# data_dir = '/data/xray_chest_final/'\n",
    "data_dir = '../image/images/'\n",
    "\n",
    "ChestDataset(data_dir,df).reset_folder()\n",
    "\n",
    "df = ChestDataset(data_dir,df).reader\n",
    "df = df[df.exists == True]\n",
    "\n",
    "df['labels'] = df['Finding Labels'].apply(lambda x: '' if x=='No Finding' else x.split('|'))\n",
    "binarizer = MultiLabelBinarizer()\n",
    "binarizer.fit(df.labels)\n",
    "df['target'] = list(binarizer.transform(df.labels))"
   ]
  },
  {
   "cell_type": "code",
   "execution_count": 114,
   "metadata": {
    "ExecuteTime": {
     "end_time": "2019-02-05T13:03:45.794230Z",
     "start_time": "2019-02-05T13:03:44.950258Z"
    }
   },
   "outputs": [],
   "source": [
    "df = df[~df['Finding Labels'].str.contains('\\|')]\n",
    "dataset = ChestDataset(data_dir,df)\n",
    "\n",
    "train_list = [el[len(data_dir):] for i,el in enumerate(dataset.image_path) if not i%5 == 0]\n",
    "test_list = [el[len(data_dir):] for i,el in enumerate(dataset.image_path) if i%5 == 0]\n",
    "# class_weights = dict(df_uni.groupby('Finding Labels').count().exists/(len(df_uni)))"
   ]
  },
  {
   "cell_type": "code",
   "execution_count": 115,
   "metadata": {
    "ExecuteTime": {
     "end_time": "2019-02-05T13:03:52.190627Z",
     "start_time": "2019-02-05T13:03:46.704289Z"
    }
   },
   "outputs": [],
   "source": [
    "# with open('output/{}_train_list.txt'.format(model_name), 'w') as f:\n",
    "#     for item in train_list:\n",
    "#         f.write(\"%s\\n\" % item)\n",
    "\n",
    "# with open('output/{}_test_list.txt'.format(model_name), 'w') as f:\n",
    "#     for item in test_list:\n",
    "#         f.write(\"%s\\n\" % item)\n",
    "\n",
    "train_dt,test_dt = dataset.train_test(train_list,test_list)\n",
    "train_dt.create_tree()\n",
    "test_dt.create_tree()\n",
    "\n",
    "train_files = train_dt.image_path\n",
    "test_files = test_dt.image_path\n",
    "train_folder = train_dt.dir\n",
    "test_folder = test_dt.dir"
   ]
  },
  {
   "cell_type": "code",
   "execution_count": 10,
   "metadata": {
    "ExecuteTime": {
     "end_time": "2019-02-05T11:32:29.102093Z",
     "start_time": "2019-02-05T11:31:49.980953Z"
    }
   },
   "outputs": [
    {
     "name": "stdout",
     "output_type": "stream",
     "text": [
      "_________________________________________________________________\n",
      "Layer (type)                 Output Shape              Param #   \n",
      "=================================================================\n",
      "densenet121 (Model)          (None, 8, 8, 1024)        7037504   \n",
      "_________________________________________________________________\n",
      "flatten_1 (Flatten)          (None, 65536)             0         \n",
      "_________________________________________________________________\n",
      "activation_1 (Activation)    (None, 65536)             0         \n",
      "_________________________________________________________________\n",
      "dropout_1 (Dropout)          (None, 65536)             0         \n",
      "_________________________________________________________________\n",
      "dense_1 (Dense)              (None, 15)                983055    \n",
      "=================================================================\n",
      "Total params: 8,020,559\n",
      "Trainable params: 7,936,911\n",
      "Non-trainable params: 83,648\n",
      "_________________________________________________________________\n"
     ]
    }
   ],
   "source": [
    "# ADD YOUR MODEL\n",
    "img_width,img_height = 256,256\n",
    "densenet = DenseNet121(weights='imagenet', include_top=False,input_shape = (img_width, img_height, 3))\n",
    "\n",
    "# # Freeze some layers\n",
    "# for layer in densenet.layers[:100]:\n",
    "#     layer.trainable = False\n",
    "    \n",
    "# Create the model\n",
    "model = models.Sequential()\n",
    "\n",
    "model.add(densenet)\n",
    "\n",
    "# Add new layers\n",
    "model.add(Flatten())\n",
    "# model.add(Dense(72))\n",
    "# model.add(BatchNormalization())\n",
    "model.add(Activation('relu'))\n",
    "model.add(Dropout(0.5))\n",
    "model.add(Dense(15, activation='softmax'))\n",
    "\n",
    "# Show a summary of the model. Check the number of trainable parameters\n",
    "model.summary()\n"
   ]
  },
  {
   "cell_type": "code",
   "execution_count": 392,
   "metadata": {
    "ExecuteTime": {
     "end_time": "2019-02-05T14:12:03.451647Z",
     "start_time": "2019-02-05T14:12:03.426138Z"
    }
   },
   "outputs": [],
   "source": [
    "def rotate(img,deg):\n",
    "    return ndimage.rotate(img,deg)\n",
    "\n",
    "def stdize(img):\n",
    "    means = np.array([0.485, 0.456, 0.406])\n",
    "    stds = np.array([0.229, 0.224, 0.225])\n",
    "    for i in range(img.shape[2]):\n",
    "        img[:,:,i] = (img[:,:,i] - means[i])/stds[i]\n",
    "    return img\n",
    "\n",
    "def get_input(path):\n",
    "    img = cv2.imread(path)\n",
    "    img = img/255.0\n",
    "#     img = stdize(img)\n",
    "    return img\n",
    "\n",
    "def get_label(path):\n",
    "    label = path.split('/')[-2]\n",
    "    return label\n",
    "\n",
    "def preprocess(img):\n",
    "    batch = [img]\n",
    "    \n",
    "    if np.random.normal() > 0.5:\n",
    "        img_aug = rotate(img,90)\n",
    "        batch += [img_aug]\n",
    "    if np.random.normal() > 0.5:\n",
    "        img_aug = rotate(img,180)\n",
    "        batch += [img_aug]\n",
    "    if np.random.normal() > 0.5:\n",
    "        img_aug = rotate(img,-90)    \n",
    "        batch += [img_aug]\n",
    "    return batch\n",
    "\n",
    "\n",
    "def ChestGen(files, batch_size = 16,augment = False):\n",
    "    shuffle(files)\n",
    "    idx = 0\n",
    "    while True:\n",
    "        # Select files (paths/indices) for the batch\n",
    "        batch_paths = files[idx:idx + batch_size]\n",
    "        batch_input = []\n",
    "        batch_output = [] \n",
    "\n",
    "        # Read in each input, perform preprocessing and get labels\n",
    "        for input_path in batch_paths:\n",
    "            x = get_input(input_path)\n",
    "            y = get_label(input_path)\n",
    "            vec = binarizer.transform([(y,)])\n",
    "            batch_input += [x]\n",
    "            batch_output += list(vec)\n",
    "\n",
    "            if y != 'No Finding' and augment:\n",
    "                batch_prep = preprocess(x)\n",
    "                batch_input += batch_prep\n",
    "                batch_output += list(vec)*len(batch_prep)\n",
    "        # Return a tuple of (input,output) to feed the network\n",
    "        batch_x = np.array(batch_input)\n",
    "        batch_y = np.array(batch_output)\n",
    "        \n",
    "        idx += batch_size\n",
    "\n",
    "        yield(batch_x, batch_y)"
   ]
  },
  {
   "cell_type": "code",
   "execution_count": 383,
   "metadata": {
    "ExecuteTime": {
     "end_time": "2019-02-05T14:04:28.082272Z",
     "start_time": "2019-02-05T14:04:27.896255Z"
    }
   },
   "outputs": [],
   "source": [
    "paths = glob(data_dir +'train/**/*')\n",
    "generator = ChestGen(paths,1,augment=True)"
   ]
  },
  {
   "cell_type": "code",
   "execution_count": 378,
   "metadata": {
    "ExecuteTime": {
     "end_time": "2019-02-05T14:01:32.005408Z",
     "start_time": "2019-02-05T14:01:30.626135Z"
    }
   },
   "outputs": [
    {
     "name": "stdout",
     "output_type": "stream",
     "text": [
      "(3, 1024, 1024, 3)\n"
     ]
    },
    {
     "data": {
      "image/png": "[encoded data removed]",
      "text/plain": [
       "<Figure size 432x288 with 1 Axes>"
      ]
     },
     "metadata": {
      "needs_background": "light"
     },
     "output_type": "display_data"
    }
   ],
   "source": [
    "batch = next(generator)\n",
    "print(batch[0].shape)\n",
    "batch[1].shape\n",
    "plt.imshow(batch[0][0,:,:,:])\n",
    "plt.title('{}'.format(batch[1][0]))\n",
    "plt.show()"
   ]
  },
  {
   "cell_type": "code",
   "execution_count": 387,
   "metadata": {
    "ExecuteTime": {
     "end_time": "2019-02-05T14:07:31.447807Z",
     "start_time": "2019-02-05T14:07:31.217131Z"
    }
   },
   "outputs": [],
   "source": [
    "train_batchsize = 10\n",
    "val_batchsize = 10\n",
    "\n",
    "train_path = glob(data_dir +'train/**/*')\n",
    "test_path = glob(data_dir + 'test/**/*')\n",
    "\n",
    "train_generator = ChestGen(train_path,train_batchsize,augment=True)\n",
    "test_generator = ChestGen(test_path,val_batchsize,augment=False)"
   ]
  },
  {
   "cell_type": "code",
   "execution_count": 391,
   "metadata": {
    "ExecuteTime": {
     "end_time": "2019-02-05T14:11:23.784439Z",
     "start_time": "2019-02-05T14:11:19.685352Z"
    }
   },
   "outputs": [
    {
     "data": {
      "text/plain": [
       "(19, 14)"
      ]
     },
     "execution_count": 391,
     "metadata": {},
     "output_type": "execute_result"
    }
   ],
   "source": [
    "batch = next(train_generator)\n",
    "batch[1].shape"
   ]
  },
  {
   "cell_type": "code",
   "execution_count": null,
   "metadata": {},
   "outputs": [],
   "source": [
    "len()"
   ]
  },
  {
   "cell_type": "code",
   "execution_count": 390,
   "metadata": {
    "ExecuteTime": {
     "end_time": "2019-02-05T14:08:29.271292Z",
     "start_time": "2019-02-05T14:08:28.620377Z"
    }
   },
   "outputs": [
    {
     "data": {
      "text/plain": [
       "(10, 1024, 1024, 3)"
      ]
     },
     "execution_count": 390,
     "metadata": {},
     "output_type": "execute_result"
    }
   ],
   "source": [
    "batch = next(test_generator)\n",
    "batch[0].shape"
   ]
  },
  {
   "cell_type": "code",
   "execution_count": null,
   "metadata": {},
   "outputs": [
    {
     "name": "stdout",
     "output_type": "stream",
     "text": [
      "Epoch 1/5\n",
      " 702/1925 [=========>....................] - ETA: 6:10 - loss: 0.2119 - acc: 0.6916"
     ]
    }
   ],
   "source": [
    "# Compile the model\n",
    "optimizer = Adam(lr=0.0001)\n",
    "model.compile(loss='categorical_crossentropy', optimizer=optimizer, metrics=['accuracy'])\n",
    "\n",
    "tensorboard = TensorBoard(log_dir='output/logs', histogram_freq=0,\n",
    "                          write_graph=True, write_images=False)\n",
    "filepath = \"output/checkpoint_{}.hdf5\".format(model_name)\n",
    "checkpoint = ModelCheckpoint(filepath, monitor='val_acc', verbose=1, save_best_only=True, mode='max')\n",
    "\n",
    "# Train the model\n",
    "history = model.fit_generator(\n",
    "    train_generator,\n",
    "    steps_per_epoch=len(train_generator),\n",
    "    epochs=5,\n",
    "    class_weight=class_weights,\n",
    "    validation_data=validation_generator,\n",
    "    validation_steps=len(validation_generator),\n",
    "    verbose=1,\n",
    "    callbacks=[tensorboard,checkpoint])"
   ]
  },
  {
   "cell_type": "code",
   "execution_count": null,
   "metadata": {},
   "outputs": [],
   "source": [
    "#metrics\n",
    "fig = plt.figure(figsize=(12,6))\n",
    "plt.subplot(121)\n",
    "plt.plot(history.history['acc'])\n",
    "plt.plot(history.history['val_acc'])\n",
    "plt.title('model accuracy')\n",
    "plt.ylabel('accuracy')\n",
    "plt.xlabel('epoch')\n",
    "plt.legend(['train', 'test'], loc='upper left')\n",
    "\n",
    "plt.subplot(122)\n",
    "plt.plot(history.history['loss'])\n",
    "plt.plot(history.history['val_loss'])\n",
    "plt.title('model loss')\n",
    "plt.ylabel('loss')\n",
    "plt.xlabel('epoch')\n",
    "plt.legend(['train', 'test'], loc='upper left')\n",
    "# plt.show()\n",
    "fig.savefig('output/history_{}.png'.format(model_name))"
   ]
  },
  {
   "cell_type": "code",
   "execution_count": null,
   "metadata": {},
   "outputs": [],
   "source": [
    "# serialize model to JSON\n",
    "model_json = model.to_json()\n",
    "with open(\"output/{}.json\".format(model_name), \"w\") as json_file:\n",
    "    json_file.write(model_json)\n",
    "# serialize weights to HDF5\n",
    "model.save_weights(\"output/{}.h5\".format(model_name))\n",
    "print(\"Saved model to disk\")"
   ]
  },
  {
   "cell_type": "code",
   "execution_count": null,
   "metadata": {},
   "outputs": [],
   "source": [
    "prediction = model.predict_generator(validation_generator,\n",
    "                                     steps=len(validation_generator),\n",
    "                                     pickle_safe=True,\n",
    "                                     verbose=1)\n",
    "\n",
    "\n",
    "preds = np.argmax(prediction,axis=1)\n",
    "\n",
    "y_true = np.zeros((preds.shape[0],validation_generator.num_classes))\n",
    "y_true[np.arange(preds.shape[0]), validation_generator.classes] = 1\n",
    "inv_map = {v:k for k,v in validation_generator.class_indices.items()}\n",
    "pred_cat = [inv_map[i] for i in preds]\n",
    "\n",
    "report = classification_report(validation_generator.classes,preds)\n",
    "np.save('output/report_{}.npy'.format(model_name),report)\n",
    "print(report)\n",
    "print('Accuracy score: ',accuracy_score(validation_generator.classes,preds))"
   ]
  },
  {
   "cell_type": "code",
   "execution_count": null,
   "metadata": {},
   "outputs": [],
   "source": [
    "score = model.evaluate_generator(validation_generator,\n",
    "                                 steps=len(validation_generator),\n",
    "                                 pickle_safe=True)\n",
    "print('Accuracy Keras: ', score[1])"
   ]
  },
  {
   "cell_type": "code",
   "execution_count": null,
   "metadata": {},
   "outputs": [],
   "source": [
    "# Auc scores\n",
    "fpr = dict()\n",
    "tpr = dict()\n",
    "roc_auc = dict()\n",
    "for i in range(validation_generator.num_classes):\n",
    "    fpr[i], tpr[i], _ = roc_curve(y_true[:, i], prediction[:, i])\n",
    "    roc_auc[i] = auc(fpr[i], tpr[i])\n",
    "\n",
    "fig = plt.figure(figsize=(15,10))\n",
    "for i in range(validation_generator.num_classes):\n",
    "    plt.plot(fpr[i], tpr[i],\n",
    "             label='ROC curve of class {0} (area = {1:0.2f})'\n",
    "             ''.format(inv_map[i], roc_auc[i]))\n",
    "plt.xlabel('False Positive Rate')\n",
    "plt.ylabel('True Positive Rate')\n",
    "plt.title('ROC curve')\n",
    "plt.legend(loc=\"lower right\")\n",
    "# plt.show()\n",
    "fig.savefig('output/roc_curve_{}.png'.format(model_name))\n",
    "\n",
    "print('End Of Training')"
   ]
  }
 ],
 "metadata": {
  "kernelspec": {
   "display_name": "Final",
   "language": "python",
   "name": "final"
  },
  "language_info": {
   "codemirror_mode": {
    "name": "ipython",
    "version": 3
   },
   "file_extension": ".py",
   "mimetype": "text/x-python",
   "name": "python",
   "nbconvert_exporter": "python",
   "pygments_lexer": "ipython3",
   "version": "3.6.8"
  },
  "toc": {
   "base_numbering": 1,
   "nav_menu": {},
   "number_sections": true,
   "sideBar": true,
   "skip_h1_title": false,
   "title_cell": "Table of Contents",
   "title_sidebar": "Contents",
   "toc_cell": false,
   "toc_position": {},
   "toc_section_display": true,
   "toc_window_display": false
  },
  "varInspector": {
   "cols": {
    "lenName": 16,
    "lenType": 16,
    "lenVar": 40
   },
   "kernels_config": {
    "python": {
     "delete_cmd_postfix": "",
     "delete_cmd_prefix": "del ",
     "library": "var_list.py",
     "varRefreshCmd": "print(var_dic_list())"
    },
    "r": {
     "delete_cmd_postfix": ") ",
     "delete_cmd_prefix": "rm(",
     "library": "var_list.r",
     "varRefreshCmd": "cat(var_dic_list()) "
    }
   },
   "types_to_exclude": [
    "module",
    "function",
    "builtin_function_or_method",
    "instance",
    "_Feature"
   ],
   "window_display": false
  }
 },
 "nbformat": 4,
 "nbformat_minor": 2
}
