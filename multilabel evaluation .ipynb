{
 "cells": [
  {
   "cell_type": "code",
   "execution_count": 2,
   "metadata": {
    "ExecuteTime": {
     "end_time": "2019-01-29T14:14:41.128914Z",
     "start_time": "2019-01-29T14:14:41.120494Z"
    }
   },
   "outputs": [],
   "source": [
    "from class_dataset import ChestDataset\n",
    "import pandas as pd\n",
    "from keras.layers import Dense, Activation, Conv2D, MaxPool2D, Flatten, BatchNormalization, Dropout\n",
    "from keras.preprocessing.image import ImageDataGenerator\n",
    "from keras import applications\n",
    "from keras.applications import DenseNet121\n",
    "from keras import models\n",
    "import matplotlib.pyplot as plt\n",
    "from sklearn.metrics import classification_report,roc_curve,auc,accuracy_score\n",
    "import os \n",
    "from glob import glob"
   ]
  },
  {
   "cell_type": "code",
   "execution_count": 27,
   "metadata": {
    "ExecuteTime": {
     "end_time": "2019-01-29T14:28:41.124777Z",
     "start_time": "2019-01-29T14:28:29.043490Z"
    }
   },
   "outputs": [
    {
     "name": "stderr",
     "output_type": "stream",
     "text": [
      "/home/yair/Documents/ITC/Final/finalproject/class_dataset.py:52: SettingWithCopyWarning: \n",
      "A value is trying to be set on a copy of a slice from a DataFrame.\n",
      "Try using .loc[row_indexer,col_indexer] = value instead\n",
      "\n",
      "See the caveats in the documentation: http://pandas.pydata.org/pandas-docs/stable/indexing.html#indexing-view-versus-copy\n",
      "  self.reader['exists'] = self.exists\n"
     ]
    }
   ],
   "source": [
    "csvfile = 'data_kaggle/Data_Entry_2017.csv'\n",
    "df = pd.read_csv(csvfile)\n",
    "\n",
    "data_dir = '../image/images/'\n",
    "dataset = ChestDataset(data_dir,df)\n",
    "df = dataset.reader\n",
    "df = df[df.exists == True]\n",
    "dataset = ChestDataset(data_dir,df)\n",
    "df['path'] = dataset.image_path\n",
    "\n",
    "\n",
    "train_list_file = '../multilabel exp/densechest_multilabel_train_list.txt'\n",
    "test_list_file = '../multilabel exp/densechest_multilabel_test_list.txt'\n",
    "\n",
    "df['Finding Labels'] = df['Finding Labels'].apply(lambda x: '' if x== 'No Finding' else x)\n",
    "labels = list(df['Finding Labels'][~df['Finding Labels'].str.contains('\\|')].unique())\n",
    "labels.remove('')\n",
    "\n",
    "for label in labels:\n",
    "    df[label] = df['Finding Labels'].map(lambda x: 1 if label in x else 0)\n",
    "df['disease_vec'] = df[labels].apply(lambda x: np.array(list(x)),axis=1)\n",
    "\n",
    "with open(train_list_file,'r') as f:\n",
    "    train_list = f.read().split('\\n')\n",
    "    \n",
    "with open(test_list_file,'r') as f:\n",
    "    test_list = f.read().split('\\n')"
   ]
  },
  {
   "cell_type": "code",
   "execution_count": 13,
   "metadata": {
    "ExecuteTime": {
     "end_time": "2019-01-29T14:22:35.736700Z",
     "start_time": "2019-01-29T14:21:49.448275Z"
    }
   },
   "outputs": [
    {
     "name": "stdout",
     "output_type": "stream",
     "text": [
      "Loaded model from disk\n",
      "_________________________________________________________________\n",
      "Layer (type)                 Output Shape              Param #   \n",
      "=================================================================\n",
      "densenet121 (Model)          (None, 8, 8, 1024)        7037504   \n",
      "_________________________________________________________________\n",
      "flatten_1 (Flatten)          (None, 65536)             0         \n",
      "_________________________________________________________________\n",
      "activation_1 (Activation)    (None, 65536)             0         \n",
      "_________________________________________________________________\n",
      "dense_1 (Dense)              (None, 14)                917518    \n",
      "=================================================================\n",
      "Total params: 7,955,022\n",
      "Trainable params: 7,871,374\n",
      "Non-trainable params: 83,648\n",
      "_________________________________________________________________\n"
     ]
    }
   ],
   "source": [
    "def load_json_model(json_file,weight_file):\n",
    "    json_file = open(json_file, 'r')\n",
    "    loaded_model_json = json_file.read()\n",
    "    json_file.close()\n",
    "    loaded_model = models.model_from_json(loaded_model_json)\n",
    "    # load weights into new model\n",
    "    loaded_model.load_weights(weight_file)\n",
    "    print(\"Loaded model from disk\")\n",
    "    return loaded_model\n",
    "\n",
    "model_path = '../multilabel exp/densechest_multilabel.json'\n",
    "weight_path = '../multilabel exp/densechest_multilabel.h5'\n",
    "model = load_json_model(model_path,weight_path)\n",
    "model.compile(loss='binary_crossentropy', optimizer='adam', metrics=['accuracy'])\n",
    "model.summary()"
   ]
  },
  {
   "cell_type": "code",
   "execution_count": 25,
   "metadata": {
    "ExecuteTime": {
     "end_time": "2019-01-29T14:27:26.498007Z",
     "start_time": "2019-01-29T14:27:26.486375Z"
    }
   },
   "outputs": [],
   "source": [
    "def flow_from_dataframe(img_data_gen, in_df, path_col, y_col, **dflow_args):\n",
    "    base_dir = os.path.dirname(in_df[path_col].values[0])\n",
    "    print('## Ignore next message from keras, values are replaced anyways')\n",
    "    df_gen = img_data_gen.flow_from_directory(base_dir, \n",
    "                                     class_mode = 'sparse',\n",
    "                                    **dflow_args)\n",
    "    df_gen.filenames = in_df[path_col].values\n",
    "    df_gen.classes = np.stack(in_df[y_col].values)\n",
    "    df_gen.samples = in_df.shape[0]\n",
    "    df_gen.n = in_df.shape[0]\n",
    "    df_gen._set_index_array()\n",
    "    df_gen.directory = '' # since we have the full path\n",
    "    print('Reinserting dataframe: {} images'.format(in_df.shape[0]))\n",
    "    return df_gen"
   ]
  },
  {
   "cell_type": "code",
   "execution_count": 30,
   "metadata": {
    "ExecuteTime": {
     "end_time": "2019-01-29T14:29:15.080809Z",
     "start_time": "2019-01-29T14:29:14.358259Z"
    }
   },
   "outputs": [
    {
     "name": "stdout",
     "output_type": "stream",
     "text": [
      "## Ignore next message from keras, values are replaced anyways\n",
      "Found 0 images belonging to 0 classes.\n",
      "Reinserting dataframe: 7 images\n"
     ]
    }
   ],
   "source": [
    "img_width,img_height = 256,256\n",
    "validation_datagen = ImageDataGenerator(rescale=1./255)\n",
    "val_batchsize = 10\n",
    "\n",
    "df_test = df[df['Image Index'].isin(test_list)]\n",
    "\n",
    "validation_generator = flow_from_dataframe(validation_datagen, df_test, \n",
    "                             path_col = 'path',\n",
    "                            y_col = 'disease_vec', \n",
    "                            target_size = (img_width,img_height),\n",
    "                             color_mode = 'rgb',\n",
    "                            batch_size = val_batchsize)"
   ]
  },
  {
   "cell_type": "code",
   "execution_count": null,
   "metadata": {},
   "outputs": [],
   "source": []
  }
 ],
 "metadata": {
  "kernelspec": {
   "display_name": "TF",
   "language": "python",
   "name": "final"
  },
  "language_info": {
   "codemirror_mode": {
    "name": "ipython",
    "version": 3
   },
   "file_extension": ".py",
   "mimetype": "text/x-python",
   "name": "python",
   "nbconvert_exporter": "python",
   "pygments_lexer": "ipython3",
   "version": "3.6.6"
  },
  "toc": {
   "base_numbering": 1,
   "nav_menu": {},
   "number_sections": true,
   "sideBar": true,
   "skip_h1_title": false,
   "title_cell": "Table of Contents",
   "title_sidebar": "Contents",
   "toc_cell": false,
   "toc_position": {},
   "toc_section_display": true,
   "toc_window_display": false
  },
  "varInspector": {
   "cols": {
    "lenName": 16,
    "lenType": 16,
    "lenVar": 40
   },
   "kernels_config": {
    "python": {
     "delete_cmd_postfix": "",
     "delete_cmd_prefix": "del ",
     "library": "var_list.py",
     "varRefreshCmd": "print(var_dic_list())"
    },
    "r": {
     "delete_cmd_postfix": ") ",
     "delete_cmd_prefix": "rm(",
     "library": "var_list.r",
     "varRefreshCmd": "cat(var_dic_list()) "
    }
   },
   "types_to_exclude": [
    "module",
    "function",
    "builtin_function_or_method",
    "instance",
    "_Feature"
   ],
   "window_display": false
  }
 },
 "nbformat": 4,
 "nbformat_minor": 2
}
